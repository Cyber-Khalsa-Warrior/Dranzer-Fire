{
 "cells": [
  {
   "cell_type": "code",
   "execution_count": null,
   "id": "95a7ca64",
   "metadata": {},
   "outputs": [],
   "source": [
    "a=1"
   ]
  },
  {
   "cell_type": "code",
   "execution_count": 5,
   "id": "16861c00",
   "metadata": {},
   "outputs": [
    {
     "name": "stdout",
     "output_type": "stream",
     "text": [
      "1\n"
     ]
    },
    {
     "data": {
      "text/plain": [
       "str"
      ]
     },
     "execution_count": 5,
     "metadata": {},
     "output_type": "execute_result"
    }
   ],
   "source": [
    "a='1'\n",
    "b=\"2\"\n",
    "print(a)\n",
    "#print statement is used to debug\n",
    "type(a)"
   ]
  },
  {
   "cell_type": "code",
   "execution_count": 2,
   "id": "0eba4fe0",
   "metadata": {},
   "outputs": [
    {
     "name": "stdout",
     "output_type": "stream",
     "text": [
      "<class 'str'>\n"
     ]
    }
   ],
   "source": [
    "print(type(a))"
   ]
  },
  {
   "cell_type": "code",
   "execution_count": 6,
   "id": "12d777e0",
   "metadata": {},
   "outputs": [],
   "source": [
    "def add(a,b): #here a,b are \n",
    "    return(a+b)\n",
    "    print(a+b)"
   ]
  },
  {
   "cell_type": "code",
   "execution_count": 7,
   "id": "29080997",
   "metadata": {},
   "outputs": [
    {
     "ename": "NameError",
     "evalue": "name 'show' is not defined",
     "output_type": "error",
     "traceback": [
      "\u001b[1;31m---------------------------------------------------------------------------\u001b[0m",
      "\u001b[1;31mNameError\u001b[0m                                 Traceback (most recent call last)",
      "Cell \u001b[1;32mIn [7], line 1\u001b[0m\n\u001b[1;32m----> 1\u001b[0m \u001b[43mshow\u001b[49m()\n",
      "\u001b[1;31mNameError\u001b[0m: name 'show' is not defined"
     ]
    }
   ],
   "source": [
    "show()"
   ]
  },
  {
   "cell_type": "code",
   "execution_count": 37,
   "id": "ee6b3159",
   "metadata": {},
   "outputs": [],
   "source": [
    "st = 'Harjeet Brar'\n",
    "marks=7\n",
    "age=23"
   ]
  },
  {
   "cell_type": "code",
   "execution_count": 9,
   "id": "ec36f0dc",
   "metadata": {},
   "outputs": [
    {
     "name": "stdout",
     "output_type": "stream",
     "text": [
      "67\n"
     ]
    }
   ],
   "source": [
    "print(ord('C'))"
   ]
  },
  {
   "cell_type": "code",
   "execution_count": 13,
   "id": "7878eab5",
   "metadata": {},
   "outputs": [
    {
     "name": "stdout",
     "output_type": "stream",
     "text": [
      "@\n"
     ]
    }
   ],
   "source": [
    "print(chr(64))"
   ]
  },
  {
   "cell_type": "code",
   "execution_count": 29,
   "id": "6f639309",
   "metadata": {},
   "outputs": [],
   "source": [
    "a=1000 #the id number will be the same until the number entered is in between -5 and 255\n",
    "b=1000\n",
    "c=1000"
   ]
  },
  {
   "cell_type": "code",
   "execution_count": 30,
   "id": "7066b032",
   "metadata": {},
   "outputs": [
    {
     "name": "stdout",
     "output_type": "stream",
     "text": [
      "106878192\n"
     ]
    }
   ],
   "source": [
    "print(id(a))"
   ]
  },
  {
   "cell_type": "code",
   "execution_count": 31,
   "id": "7b417bf1",
   "metadata": {},
   "outputs": [
    {
     "name": "stdout",
     "output_type": "stream",
     "text": [
      "106878832\n"
     ]
    }
   ],
   "source": [
    "print(id(b))"
   ]
  },
  {
   "cell_type": "code",
   "execution_count": 32,
   "id": "199153dd",
   "metadata": {},
   "outputs": [
    {
     "name": "stdout",
     "output_type": "stream",
     "text": [
      "106878000\n"
     ]
    }
   ],
   "source": [
    "print(id(c))"
   ]
  },
  {
   "cell_type": "code",
   "execution_count": 33,
   "id": "8abca438",
   "metadata": {},
   "outputs": [],
   "source": [
    "def calculator(a,b):\n",
    "    add=a+b\n",
    "    sub=a-b\n",
    "    mul=a*b\n",
    "    div=a/b\n",
    "    \n",
    "    return add, sub, mul, div"
   ]
  },
  {
   "cell_type": "code",
   "execution_count": 34,
   "id": "53b2716d",
   "metadata": {},
   "outputs": [],
   "source": [
    "a, b, c, d=calculator(5, 10)"
   ]
  },
  {
   "cell_type": "code",
   "execution_count": 35,
   "id": "800a48f2",
   "metadata": {},
   "outputs": [
    {
     "name": "stdout",
     "output_type": "stream",
     "text": [
      "15 -5 50 0.5\n"
     ]
    }
   ],
   "source": [
    "print(a,b,c,d)"
   ]
  },
  {
   "cell_type": "code",
   "execution_count": 38,
   "id": "8e127a57",
   "metadata": {},
   "outputs": [
    {
     "name": "stdout",
     "output_type": "stream",
     "text": [
      "Harjeet Brar 7 23\n"
     ]
    }
   ],
   "source": [
    "print(st,marks,age)"
   ]
  },
  {
   "cell_type": "code",
   "execution_count": 40,
   "id": "8462fbe6",
   "metadata": {},
   "outputs": [
    {
     "name": "stdout",
     "output_type": "stream",
     "text": [
      "My name is Harjeet Brar and my marks are 7 and my age is 23\n"
     ]
    }
   ],
   "source": [
    "print(\"My name is\",st,\"and my marks are\",marks,\"and my age is\",age)"
   ]
  },
  {
   "cell_type": "code",
   "execution_count": 42,
   "id": "607dd2fa",
   "metadata": {},
   "outputs": [
    {
     "name": "stdout",
     "output_type": "stream",
     "text": [
      "My name is Harjeet Brar and my marks are 7 and my age is 23\n"
     ]
    }
   ],
   "source": [
    "print(\"My name is {} and my marks are {} and my age is {}\".format(st,marks,age))"
   ]
  },
  {
   "cell_type": "code",
   "execution_count": 44,
   "id": "78345795",
   "metadata": {},
   "outputs": [
    {
     "name": "stdout",
     "output_type": "stream",
     "text": [
      "My name is Harjeet Brar and my marks are 7 and my age is 23\n"
     ]
    }
   ],
   "source": [
    "print(f\"My name is {st} and my marks are {marks} and my age is {age}\")"
   ]
  },
  {
   "cell_type": "code",
   "execution_count": 45,
   "id": "d428085e",
   "metadata": {},
   "outputs": [
    {
     "name": "stdout",
     "output_type": "stream",
     "text": [
      "Harjeet Brar\n"
     ]
    }
   ],
   "source": [
    "print(st)"
   ]
  },
  {
   "cell_type": "code",
   "execution_count": 46,
   "id": "4436b4d0",
   "metadata": {},
   "outputs": [],
   "source": [
    "st = \"Good Morning\" #Overiding previously stored data in a variable"
   ]
  },
  {
   "cell_type": "code",
   "execution_count": 47,
   "id": "c8c82726",
   "metadata": {},
   "outputs": [
    {
     "name": "stdout",
     "output_type": "stream",
     "text": [
      "Good Morning\n"
     ]
    }
   ],
   "source": [
    "print(st) "
   ]
  },
  {
   "cell_type": "code",
   "execution_count": 48,
   "id": "cd17d091",
   "metadata": {},
   "outputs": [
    {
     "name": "stdout",
     "output_type": "stream",
     "text": [
      "1\n",
      "1\n"
     ]
    }
   ],
   "source": [
    "inp=input()\n",
    "print(inp)"
   ]
  },
  {
   "cell_type": "code",
   "execution_count": 49,
   "id": "3045f3e3",
   "metadata": {},
   "outputs": [
    {
     "name": "stdout",
     "output_type": "stream",
     "text": [
      "1\n"
     ]
    }
   ],
   "source": [
    "temp=input()"
   ]
  },
  {
   "cell_type": "code",
   "execution_count": 50,
   "id": "5edacf8c",
   "metadata": {},
   "outputs": [
    {
     "name": "stdout",
     "output_type": "stream",
     "text": [
      "Hi\n"
     ]
    }
   ],
   "source": [
    "if a==10:\n",
    "    print(\"Hello\")\n",
    "else:\n",
    "    print(\"Hi\")"
   ]
  },
  {
   "cell_type": "code",
   "execution_count": 52,
   "id": "8649ea57",
   "metadata": {},
   "outputs": [
    {
     "name": "stdout",
     "output_type": "stream",
     "text": [
      " yes\n"
     ]
    }
   ],
   "source": [
    "temp=input()"
   ]
  },
  {
   "cell_type": "code",
   "execution_count": 53,
   "id": "5b14a758",
   "metadata": {},
   "outputs": [
    {
     "name": "stdout",
     "output_type": "stream",
     "text": [
      "NO\n"
     ]
    }
   ],
   "source": [
    "if temp==\"yes\":\n",
    "    print(\"YES\")\n",
    "else:\n",
    "    print(\"NO\")"
   ]
  },
  {
   "cell_type": "code",
   "execution_count": 54,
   "id": "3a7e58c9",
   "metadata": {},
   "outputs": [
    {
     "name": "stdout",
     "output_type": "stream",
     "text": [
      " yes\n"
     ]
    }
   ],
   "source": [
    "print(temp)"
   ]
  },
  {
   "cell_type": "code",
   "execution_count": 55,
   "id": "46aad089",
   "metadata": {},
   "outputs": [
    {
     "name": "stdout",
     "output_type": "stream",
     "text": [
      " \n"
     ]
    }
   ],
   "source": [
    "print(temp[0])"
   ]
  },
  {
   "cell_type": "code",
   "execution_count": 56,
   "id": "29da6e19",
   "metadata": {},
   "outputs": [
    {
     "data": {
      "text/plain": [
       "'yes'"
      ]
     },
     "execution_count": 56,
     "metadata": {},
     "output_type": "execute_result"
    }
   ],
   "source": [
    "temp.strip()"
   ]
  },
  {
   "cell_type": "code",
   "execution_count": 57,
   "id": "2b390f74",
   "metadata": {},
   "outputs": [
    {
     "name": "stdout",
     "output_type": "stream",
     "text": [
      "yes\n"
     ]
    }
   ],
   "source": [
    "st = \"Good Morning\"\n",
    "print(temp.strip())"
   ]
  },
  {
   "cell_type": "code",
   "execution_count": 58,
   "id": "4e94a582",
   "metadata": {},
   "outputs": [
    {
     "name": "stdout",
     "output_type": "stream",
     "text": [
      "Good Morning\n"
     ]
    }
   ],
   "source": [
    "print(st.strip())"
   ]
  },
  {
   "cell_type": "code",
   "execution_count": 59,
   "id": "e5657831",
   "metadata": {},
   "outputs": [],
   "source": [
    "st = \"My name is Harjeet Brar\""
   ]
  },
  {
   "cell_type": "code",
   "execution_count": 60,
   "id": "c05b2d3b",
   "metadata": {},
   "outputs": [
    {
     "name": "stdout",
     "output_type": "stream",
     "text": [
      "['My', 'name', 'is', 'Harjeet', 'Brar']\n"
     ]
    }
   ],
   "source": [
    "print(st.split(\" \"))"
   ]
  },
  {
   "cell_type": "code",
   "execution_count": 61,
   "id": "f0375996",
   "metadata": {},
   "outputs": [
    {
     "name": "stdout",
     "output_type": "stream",
     "text": [
      "My name is Gurpreet Brar\n"
     ]
    }
   ],
   "source": [
    "print(st.replace(\"Harjeet\",\"Gurpreet\"))"
   ]
  },
  {
   "cell_type": "code",
   "execution_count": 69,
   "id": "9a06752b",
   "metadata": {},
   "outputs": [
    {
     "name": "stdout",
     "output_type": "stream",
     "text": [
      "11\n"
     ]
    }
   ],
   "source": [
    "a=\"aaaaaaaafffffffffffwwwwwwww\"\n",
    "print(a.count('f'))"
   ]
  },
  {
   "cell_type": "code",
   "execution_count": 2,
   "id": "d31b1b3e",
   "metadata": {},
   "outputs": [],
   "source": [
    "#List\n",
    "a=[1,2,3,\"Hi\",print]"
   ]
  },
  {
   "cell_type": "code",
   "execution_count": 3,
   "id": "675edc4f",
   "metadata": {},
   "outputs": [
    {
     "name": "stdout",
     "output_type": "stream",
     "text": [
      "1 2 3 Hi\n"
     ]
    }
   ],
   "source": [
    "print(a[0], a[1], a[2], a[3])"
   ]
  },
  {
   "cell_type": "code",
   "execution_count": 4,
   "id": "bb04ae18",
   "metadata": {},
   "outputs": [
    {
     "name": "stdout",
     "output_type": "stream",
     "text": [
      "Hello World\n"
     ]
    }
   ],
   "source": [
    "a[4](\"Hello World\") #This is picking up index value 4 from line In [2]"
   ]
  },
  {
   "cell_type": "code",
   "execution_count": 6,
   "id": "e4983a51",
   "metadata": {},
   "outputs": [
    {
     "name": "stdout",
     "output_type": "stream",
     "text": [
      "6\n"
     ]
    }
   ],
   "source": [
    "b=[1,2,3,4,5,6,7]\n",
    "print(b[-2])"
   ]
  },
  {
   "cell_type": "code",
   "execution_count": 8,
   "id": "372ac529",
   "metadata": {},
   "outputs": [
    {
     "name": "stdout",
     "output_type": "stream",
     "text": [
      "[3, 4]\n"
     ]
    }
   ],
   "source": [
    "print(b[2:4])"
   ]
  },
  {
   "cell_type": "code",
   "execution_count": 9,
   "id": "815bdcc4",
   "metadata": {},
   "outputs": [
    {
     "name": "stdout",
     "output_type": "stream",
     "text": [
      "[1, 3, 5]\n"
     ]
    }
   ],
   "source": [
    "print(b[0:6:2])"
   ]
  },
  {
   "cell_type": "code",
   "execution_count": 10,
   "id": "78f595c5",
   "metadata": {},
   "outputs": [
    {
     "data": {
      "text/plain": [
       "[1, 2, 3, 4, 5, 6, 7]"
      ]
     },
     "execution_count": 10,
     "metadata": {},
     "output_type": "execute_result"
    }
   ],
   "source": [
    "b"
   ]
  },
  {
   "cell_type": "code",
   "execution_count": 11,
   "id": "4dfcb854",
   "metadata": {},
   "outputs": [
    {
     "name": "stdout",
     "output_type": "stream",
     "text": [
      "10\n"
     ]
    }
   ],
   "source": [
    "temp = input()"
   ]
  },
  {
   "cell_type": "code",
   "execution_count": 12,
   "id": "b337e3df",
   "metadata": {},
   "outputs": [
    {
     "name": "stdout",
     "output_type": "stream",
     "text": [
      "[1, 2, 3, 4, 5, 6, 7]\n"
     ]
    }
   ],
   "source": [
    "print(b)"
   ]
  },
  {
   "cell_type": "code",
   "execution_count": 13,
   "id": "1e2aec3d",
   "metadata": {},
   "outputs": [
    {
     "name": "stdout",
     "output_type": "stream",
     "text": [
      "11\n"
     ]
    }
   ],
   "source": [
    "temp = input() #append function is used to insert another value at the end\n",
    "b.append(temp)"
   ]
  },
  {
   "cell_type": "code",
   "execution_count": 14,
   "id": "d33bc7e2",
   "metadata": {},
   "outputs": [
    {
     "name": "stdout",
     "output_type": "stream",
     "text": [
      "[1, 2, 3, 4, 5, 6, 7, '11']\n"
     ]
    }
   ],
   "source": [
    "print(b)"
   ]
  },
  {
   "cell_type": "code",
   "execution_count": 15,
   "id": "094c2e63",
   "metadata": {},
   "outputs": [],
   "source": [
    "b.insert(1,100) #This function is used to insert a value the first value defines the index number \n",
    "#and the second value defines the number itself that is to be inserted"
   ]
  },
  {
   "cell_type": "code",
   "execution_count": 16,
   "id": "0b15ce6f",
   "metadata": {},
   "outputs": [
    {
     "name": "stdout",
     "output_type": "stream",
     "text": [
      "[1, 100, 2, 3, 4, 5, 6, 7, '11']\n"
     ]
    }
   ],
   "source": [
    "print(b)"
   ]
  },
  {
   "cell_type": "code",
   "execution_count": 17,
   "id": "96eea010",
   "metadata": {},
   "outputs": [
    {
     "name": "stdout",
     "output_type": "stream",
     "text": [
      "1000\n"
     ]
    }
   ],
   "source": [
    "temp = int(input()) #typecasting\n",
    "b.append(temp)"
   ]
  },
  {
   "cell_type": "code",
   "execution_count": 18,
   "id": "ca2f4024",
   "metadata": {},
   "outputs": [
    {
     "name": "stdout",
     "output_type": "stream",
     "text": [
      "[1, 100, 2, 3, 4, 5, 6, 7, '11', 1000]\n"
     ]
    }
   ],
   "source": [
    "print(b)"
   ]
  },
  {
   "cell_type": "code",
   "execution_count": 19,
   "id": "19a286b7",
   "metadata": {},
   "outputs": [
    {
     "data": {
      "text/plain": [
       "1000"
      ]
     },
     "execution_count": 19,
     "metadata": {},
     "output_type": "execute_result"
    }
   ],
   "source": [
    "b.pop() #pop function also removes the specified value from the list, without specifying it omits the last value by default"
   ]
  },
  {
   "cell_type": "code",
   "execution_count": 20,
   "id": "75578a11",
   "metadata": {},
   "outputs": [
    {
     "name": "stdout",
     "output_type": "stream",
     "text": [
      "[1, 100, 2, 3, 4, 5, 6, 7, '11']\n"
     ]
    }
   ],
   "source": [
    "print(b)"
   ]
  },
  {
   "cell_type": "code",
   "execution_count": 21,
   "id": "0093e2e4",
   "metadata": {},
   "outputs": [],
   "source": [
    "b.remove(7) #It removes the value directly from the list without using its index number to locate it"
   ]
  },
  {
   "cell_type": "code",
   "execution_count": 24,
   "id": "e07b0140",
   "metadata": {},
   "outputs": [
    {
     "name": "stdout",
     "output_type": "stream",
     "text": [
      "[1, 100, 2, 3, 4, 5, 6, 11]\n"
     ]
    }
   ],
   "source": [
    "b[-1] = int(b[-1])\n",
    "print(b)"
   ]
  },
  {
   "cell_type": "code",
   "execution_count": 25,
   "id": "dd5e6937",
   "metadata": {},
   "outputs": [],
   "source": [
    "sort_list = sorted(b)"
   ]
  },
  {
   "cell_type": "code",
   "execution_count": 26,
   "id": "4887eb27",
   "metadata": {},
   "outputs": [
    {
     "data": {
      "text/plain": [
       "[1, 2, 3, 4, 5, 6, 11, 100]"
      ]
     },
     "execution_count": 26,
     "metadata": {},
     "output_type": "execute_result"
    }
   ],
   "source": [
    "sort_list"
   ]
  },
  {
   "cell_type": "code",
   "execution_count": 27,
   "id": "1ce5f189",
   "metadata": {},
   "outputs": [],
   "source": [
    "#TUPLES\n",
    "tup = (1,2,3)"
   ]
  },
  {
   "cell_type": "code",
   "execution_count": 28,
   "id": "701d2876",
   "metadata": {},
   "outputs": [
    {
     "name": "stdout",
     "output_type": "stream",
     "text": [
      "(1, 2, 3)\n"
     ]
    }
   ],
   "source": [
    "print(tup)"
   ]
  },
  {
   "cell_type": "code",
   "execution_count": 29,
   "id": "73efb487",
   "metadata": {},
   "outputs": [
    {
     "name": "stdout",
     "output_type": "stream",
     "text": [
      "2\n"
     ]
    }
   ],
   "source": [
    "print(tup[1])"
   ]
  },
  {
   "cell_type": "code",
   "execution_count": null,
   "id": "4bd912fa",
   "metadata": {},
   "outputs": [],
   "source": [
    "#Tuples are immutable"
   ]
  },
  {
   "cell_type": "code",
   "execution_count": 31,
   "id": "da824a9b",
   "metadata": {},
   "outputs": [],
   "source": [
    "#Dictionaries\n",
    "d = {\n",
    "    \"name\":\"Harjeet\",\n",
    "    \"age\":23,\n",
    "    \"marks\":70\n",
    "}"
   ]
  },
  {
   "cell_type": "code",
   "execution_count": 32,
   "id": "d88b68c7",
   "metadata": {},
   "outputs": [
    {
     "name": "stdout",
     "output_type": "stream",
     "text": [
      "{'name': 'Harjeet', 'age': 23, 'marks': 70}\n"
     ]
    }
   ],
   "source": [
    "print(d)"
   ]
  },
  {
   "cell_type": "code",
   "execution_count": 33,
   "id": "d450b63d",
   "metadata": {},
   "outputs": [
    {
     "data": {
      "text/plain": [
       "70"
      ]
     },
     "execution_count": 33,
     "metadata": {},
     "output_type": "execute_result"
    }
   ],
   "source": [
    "marks = \"marks\"\n",
    "d[marks]"
   ]
  },
  {
   "cell_type": "code",
   "execution_count": 44,
   "id": "5e5d0415",
   "metadata": {},
   "outputs": [
    {
     "name": "stdout",
     "output_type": "stream",
     "text": [
      "dict_items([('name', 'Harjeet'), ('age', 23), ('marks', 70)])\n"
     ]
    }
   ],
   "source": [
    "print(d.items())"
   ]
  },
  {
   "cell_type": "code",
   "execution_count": 45,
   "id": "9daec9ec",
   "metadata": {},
   "outputs": [
    {
     "name": "stdout",
     "output_type": "stream",
     "text": [
      "name Harjeet\n",
      "age 23\n",
      "marks 70\n"
     ]
    }
   ],
   "source": [
    "for i, j in d.items():\n",
    "    print(i,j)"
   ]
  },
  {
   "cell_type": "code",
   "execution_count": 35,
   "id": "e148375c",
   "metadata": {},
   "outputs": [
    {
     "name": "stdout",
     "output_type": "stream",
     "text": [
      "range(0, 10)\n"
     ]
    }
   ],
   "source": [
    "print(range(10))"
   ]
  },
  {
   "cell_type": "code",
   "execution_count": 41,
   "id": "4f017145",
   "metadata": {},
   "outputs": [
    {
     "name": "stdout",
     "output_type": "stream",
     "text": [
      "5\n",
      "FIVE\n",
      "6\n",
      "7\n",
      "8\n",
      "9\n"
     ]
    }
   ],
   "source": [
    "for i in range(5,10):\n",
    "    print(i)\n",
    "    if i==5:\n",
    "        print(\"FIVE\")"
   ]
  },
  {
   "cell_type": "code",
   "execution_count": 42,
   "id": "69faf771",
   "metadata": {},
   "outputs": [
    {
     "data": {
      "text/plain": [
       "[1, 100, 2, 3, 4, 5, 6, 11]"
      ]
     },
     "execution_count": 42,
     "metadata": {},
     "output_type": "execute_result"
    }
   ],
   "source": [
    "b"
   ]
  },
  {
   "cell_type": "code",
   "execution_count": 43,
   "id": "5ee1ec86",
   "metadata": {},
   "outputs": [
    {
     "name": "stdout",
     "output_type": "stream",
     "text": [
      "1\n",
      "100\n",
      "2\n",
      "3\n",
      "4\n",
      "5\n",
      "6\n",
      "11\n"
     ]
    }
   ],
   "source": [
    "for i in b:\n",
    "    print(i)"
   ]
  },
  {
   "cell_type": "code",
   "execution_count": 46,
   "id": "59e32370",
   "metadata": {},
   "outputs": [
    {
     "data": {
      "text/plain": [
       "{'name': 'Harjeet', 'age': 23, 'marks': 70}"
      ]
     },
     "execution_count": 46,
     "metadata": {},
     "output_type": "execute_result"
    }
   ],
   "source": [
    "d"
   ]
  },
  {
   "cell_type": "code",
   "execution_count": 47,
   "id": "58c393cc",
   "metadata": {},
   "outputs": [
    {
     "name": "stdout",
     "output_type": "stream",
     "text": [
      "dict_keys(['name', 'age', 'marks'])\n"
     ]
    }
   ],
   "source": [
    "print(d.keys())"
   ]
  },
  {
   "cell_type": "code",
   "execution_count": 48,
   "id": "791648a7",
   "metadata": {},
   "outputs": [
    {
     "name": "stdout",
     "output_type": "stream",
     "text": [
      "name\n",
      "age\n",
      "marks\n"
     ]
    }
   ],
   "source": [
    "for i in d.keys():\n",
    "    print(i)"
   ]
  },
  {
   "cell_type": "code",
   "execution_count": 49,
   "id": "d4ac8f6c",
   "metadata": {},
   "outputs": [
    {
     "name": "stdout",
     "output_type": "stream",
     "text": [
      "dict_values(['Harjeet', 23, 70])\n"
     ]
    }
   ],
   "source": [
    "print(d.values())"
   ]
  },
  {
   "cell_type": "code",
   "execution_count": 50,
   "id": "80c2351c",
   "metadata": {},
   "outputs": [],
   "source": [
    "#Exercise question given by sir to solve as either classwork or homework\n",
    "a = {\n",
    "    \"name\":\"Harjeet\",\n",
    "    \"age\":34,\n",
    "    \"marks\":75\n",
    "}\n",
    "b = {\n",
    "    \"name\":\"Abhijeet\",\n",
    "    \"age\":23,\n",
    "    \"marks\":90\n",
    "}"
   ]
  },
  {
   "cell_type": "code",
   "execution_count": null,
   "id": "740ad52e",
   "metadata": {},
   "outputs": [],
   "source": [
    "for i in range(3):\n",
    "    name = input(\"Enter your name = \")\n",
    "    age = int(input(\"Enter your age = \"))\n",
    "    marks = int(input(\"Enter your marks = \"))"
   ]
  },
  {
   "cell_type": "code",
   "execution_count": 62,
   "id": "0c5bc6bd",
   "metadata": {},
   "outputs": [],
   "source": [
    "def add(a,b,*args): #args function is used to \n",
    "    print(a+b)\n",
    "    print(args)"
   ]
  },
  {
   "cell_type": "code",
   "execution_count": 63,
   "id": "757650c1",
   "metadata": {},
   "outputs": [
    {
     "name": "stdout",
     "output_type": "stream",
     "text": [
      "3\n",
      "(3, 4)\n"
     ]
    }
   ],
   "source": [
    "add(1,2,3,4)"
   ]
  },
  {
   "cell_type": "code",
   "execution_count": 93,
   "id": "b58c9845",
   "metadata": {},
   "outputs": [],
   "source": [
    "def add(a=1, b=2, *args,**kwargs):\n",
    "    print(a+b)\n",
    "    print(args)\n",
    "    print(kwargs)"
   ]
  },
  {
   "cell_type": "code",
   "execution_count": 94,
   "id": "1e79349f",
   "metadata": {},
   "outputs": [
    {
     "name": "stdout",
     "output_type": "stream",
     "text": [
      "3\n",
      "()\n",
      "{}\n"
     ]
    }
   ],
   "source": [
    "add()"
   ]
  },
  {
   "cell_type": "code",
   "execution_count": 96,
   "id": "b8b7a137",
   "metadata": {},
   "outputs": [
    {
     "name": "stdout",
     "output_type": "stream",
     "text": [
      "150\n",
      "()\n",
      "{}\n"
     ]
    }
   ],
   "source": [
    "add(100,50)"
   ]
  },
  {
   "cell_type": "code",
   "execution_count": 97,
   "id": "0a9aa76f",
   "metadata": {},
   "outputs": [
    {
     "name": "stdout",
     "output_type": "stream",
     "text": [
      "150\n",
      "(75,)\n",
      "{}\n"
     ]
    }
   ],
   "source": [
    "add(100,50,75)"
   ]
  },
  {
   "cell_type": "code",
   "execution_count": 100,
   "id": "cdeb10c6",
   "metadata": {},
   "outputs": [
    {
     "name": "stdout",
     "output_type": "stream",
     "text": [
      "3\n",
      "(55,)\n",
      "{'no': 100}\n"
     ]
    }
   ],
   "source": [
    "add(1, 2, 55, no=100)"
   ]
  },
  {
   "cell_type": "code",
   "execution_count": 5,
   "id": "3c346e81",
   "metadata": {},
   "outputs": [],
   "source": [
    "a = {\n",
    "    \"name\":\"Harjeet\",\n",
    "    \"age\":34,\n",
    "    \"marks\":75\n",
    "}\n",
    "b = {\n",
    "    \"name\":\"Abhijeet\",\n",
    "    \"age\":23,\n",
    "    \"marks\":90\n",
    "}"
   ]
  },
  {
   "cell_type": "code",
   "execution_count": 7,
   "id": "d1e2976d",
   "metadata": {},
   "outputs": [
    {
     "ename": "AttributeError",
     "evalue": "'dict' object has no attribute 'append'",
     "output_type": "error",
     "traceback": [
      "\u001b[1;31m---------------------------------------------------------------------------\u001b[0m",
      "\u001b[1;31mAttributeError\u001b[0m                            Traceback (most recent call last)",
      "Cell \u001b[1;32mIn [7], line 2\u001b[0m\n\u001b[0;32m      1\u001b[0m \u001b[38;5;28;01mfor\u001b[39;00m x \u001b[38;5;129;01min\u001b[39;00m b:\n\u001b[1;32m----> 2\u001b[0m   \u001b[43ma\u001b[49m\u001b[38;5;241;43m.\u001b[39;49m\u001b[43mappend\u001b[49m(x)\n\u001b[0;32m      3\u001b[0m \u001b[38;5;28mprint\u001b[39m(a)\n",
      "\u001b[1;31mAttributeError\u001b[0m: 'dict' object has no attribute 'append'"
     ]
    }
   ],
   "source": [
    "for x in b:\n",
    "  a.append(x) #Cannot use append function with a dictionary\n",
    "print(a)"
   ]
  },
  {
   "cell_type": "code",
   "execution_count": 9,
   "id": "1dddada6",
   "metadata": {},
   "outputs": [
    {
     "name": "stdout",
     "output_type": "stream",
     "text": [
      "Enter a Number = 2\n",
      "Enter Your Name = Harjeet\n",
      "Enter Roll Number = 10\n",
      "Enter Branch = Bathinda\n",
      "Enter Your Name = Gurpreet\n",
      "Enter Roll Number = 15\n",
      "Enter Branch = Goniana\n"
     ]
    }
   ],
   "source": [
    "students = []\n",
    "num = int(input(\"Enter a Number = \"))\n",
    "for x in range(num):\n",
    "    name = input(\"Enter Your Name = \")\n",
    "    roll = int(input(\"Enter Roll Number = \"))\n",
    "    branch = input(\"Enter Branch = \")\n",
    "    students.append({\n",
    "        \"name\": name,\n",
    "        \"roll\": roll,\n",
    "        \"branch\": branch\n",
    "    })"
   ]
  },
  {
   "cell_type": "code",
   "execution_count": 10,
   "id": "c9bb6fb5",
   "metadata": {},
   "outputs": [],
   "source": [
    "a = {1,2,3,4}"
   ]
  },
  {
   "cell_type": "code",
   "execution_count": 11,
   "id": "26522833",
   "metadata": {},
   "outputs": [
    {
     "data": {
      "text/plain": [
       "set"
      ]
     },
     "execution_count": 11,
     "metadata": {},
     "output_type": "execute_result"
    }
   ],
   "source": [
    "type(a)"
   ]
  },
  {
   "cell_type": "code",
   "execution_count": 12,
   "id": "50d6f552",
   "metadata": {},
   "outputs": [],
   "source": [
    "b = {4,5,6,7,8}"
   ]
  },
  {
   "cell_type": "code",
   "execution_count": 13,
   "id": "64107416",
   "metadata": {},
   "outputs": [
    {
     "data": {
      "text/plain": [
       "set"
      ]
     },
     "execution_count": 13,
     "metadata": {},
     "output_type": "execute_result"
    }
   ],
   "source": [
    "type(b)"
   ]
  },
  {
   "cell_type": "code",
   "execution_count": 14,
   "id": "e8b3cb76",
   "metadata": {},
   "outputs": [
    {
     "data": {
      "text/plain": [
       "{4, 5, 6, 7, 8}"
      ]
     },
     "execution_count": 14,
     "metadata": {},
     "output_type": "execute_result"
    }
   ],
   "source": [
    "b"
   ]
  },
  {
   "cell_type": "code",
   "execution_count": 15,
   "id": "2a86f9ea",
   "metadata": {},
   "outputs": [
    {
     "data": {
      "text/plain": [
       "{4}"
      ]
     },
     "execution_count": 15,
     "metadata": {},
     "output_type": "execute_result"
    }
   ],
   "source": [
    "a.intersection(b)"
   ]
  },
  {
   "cell_type": "code",
   "execution_count": 16,
   "id": "68efa924",
   "metadata": {},
   "outputs": [
    {
     "name": "stdout",
     "output_type": "stream",
     "text": [
      "{1, 2, 3, 4, 5, 6, 7, 8}\n"
     ]
    }
   ],
   "source": [
    "print(a.union(b)) #Union function doesn't display repeating numbers/values"
   ]
  },
  {
   "cell_type": "code",
   "execution_count": 31,
   "id": "a602d0ff",
   "metadata": {},
   "outputs": [],
   "source": [
    "a = [0,1,1,1,1,2,2,2,3,4,5,6,7,8,9,0]"
   ]
  },
  {
   "cell_type": "code",
   "execution_count": 32,
   "id": "42944206",
   "metadata": {},
   "outputs": [
    {
     "name": "stdout",
     "output_type": "stream",
     "text": [
      "16\n"
     ]
    },
    {
     "data": {
      "text/plain": [
       "list"
      ]
     },
     "execution_count": 32,
     "metadata": {},
     "output_type": "execute_result"
    }
   ],
   "source": [
    "print(len(a))\n",
    "type(a)"
   ]
  },
  {
   "cell_type": "code",
   "execution_count": 33,
   "id": "dc48dd2d",
   "metadata": {},
   "outputs": [
    {
     "name": "stdout",
     "output_type": "stream",
     "text": [
      "{0, 1, 2, 3, 4, 5, 6, 7, 8, 9}\n"
     ]
    }
   ],
   "source": [
    "print(set(a))"
   ]
  },
  {
   "cell_type": "code",
   "execution_count": 34,
   "id": "4727b3c7",
   "metadata": {},
   "outputs": [
    {
     "name": "stdout",
     "output_type": "stream",
     "text": [
      "<class 'list'>\n"
     ]
    }
   ],
   "source": [
    "print(type(a))"
   ]
  },
  {
   "cell_type": "code",
   "execution_count": 35,
   "id": "2bd251c3",
   "metadata": {},
   "outputs": [],
   "source": [
    "a = list(set(a))"
   ]
  },
  {
   "cell_type": "code",
   "execution_count": 36,
   "id": "dd1b4c5e",
   "metadata": {},
   "outputs": [
    {
     "data": {
      "text/plain": [
       "[0, 1, 2, 3, 4, 5, 6, 7, 8, 9]"
      ]
     },
     "execution_count": 36,
     "metadata": {},
     "output_type": "execute_result"
    }
   ],
   "source": [
    "a"
   ]
  },
  {
   "cell_type": "code",
   "execution_count": 37,
   "id": "6f784e97",
   "metadata": {},
   "outputs": [
    {
     "data": {
      "text/plain": [
       "10"
      ]
     },
     "execution_count": 37,
     "metadata": {},
     "output_type": "execute_result"
    }
   ],
   "source": [
    "len(a)"
   ]
  },
  {
   "cell_type": "code",
   "execution_count": null,
   "id": "defa1303",
   "metadata": {},
   "outputs": [],
   "source": []
  }
 ],
 "metadata": {
  "kernelspec": {
   "display_name": "Python 3 (ipykernel)",
   "language": "python",
   "name": "python3"
  },
  "language_info": {
   "codemirror_mode": {
    "name": "ipython",
    "version": 3
   },
   "file_extension": ".py",
   "mimetype": "text/x-python",
   "name": "python",
   "nbconvert_exporter": "python",
   "pygments_lexer": "ipython3",
   "version": "3.8.6"
  }
 },
 "nbformat": 4,
 "nbformat_minor": 5
}
