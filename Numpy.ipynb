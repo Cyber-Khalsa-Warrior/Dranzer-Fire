{
 "cells": [
  {
   "cell_type": "code",
   "execution_count": 1,
   "id": "9634e7c9",
   "metadata": {},
   "outputs": [
    {
     "name": "stdout",
     "output_type": "stream",
     "text": [
      "Collecting numpy\n",
      "  Downloading numpy-1.24.1-cp38-cp38-win_amd64.whl (14.9 MB)\n",
      "Installing collected packages: numpy\n",
      "Successfully installed numpy-1.24.1\n"
     ]
    },
    {
     "name": "stderr",
     "output_type": "stream",
     "text": [
      "WARNING: You are using pip version 20.2.1; however, version 22.3.1 is available.\n",
      "You should consider upgrading via the 'c:\\users\\brar\\appdata\\local\\programs\\python\\python38\\python.exe -m pip install --upgrade pip' command.\n"
     ]
    }
   ],
   "source": [
    "!pip install numpy"
   ]
  },
  {
   "cell_type": "code",
   "execution_count": 2,
   "id": "2cb111c4",
   "metadata": {},
   "outputs": [],
   "source": [
    "import numpy as np"
   ]
  },
  {
   "cell_type": "code",
   "execution_count": 3,
   "id": "54b27d4e",
   "metadata": {},
   "outputs": [],
   "source": [
    "#LIBRARY:-\n",
    "#Numpy ==> Scientific computation library, number manipulate"
   ]
  },
  {
   "cell_type": "code",
   "execution_count": 4,
   "id": "0e70c11b",
   "metadata": {},
   "outputs": [],
   "source": [
    "#PROPERTIES:-\n",
    "#1) Mutable\n",
    "#2) Indexable\n",
    "#3) Homogenous"
   ]
  },
  {
   "cell_type": "code",
   "execution_count": 5,
   "id": "852f463d",
   "metadata": {},
   "outputs": [],
   "source": [
    "a = np.array([1,2,3,4,5])"
   ]
  },
  {
   "cell_type": "code",
   "execution_count": 6,
   "id": "1b4b71ce",
   "metadata": {},
   "outputs": [
    {
     "name": "stdout",
     "output_type": "stream",
     "text": [
      "[1 2 3 4 5]\n"
     ]
    }
   ],
   "source": [
    "print(a)"
   ]
  },
  {
   "cell_type": "code",
   "execution_count": 7,
   "id": "2f2c9d89",
   "metadata": {},
   "outputs": [
    {
     "data": {
      "text/plain": [
       "numpy.ndarray"
      ]
     },
     "execution_count": 7,
     "metadata": {},
     "output_type": "execute_result"
    }
   ],
   "source": [
    "type(a)"
   ]
  },
  {
   "cell_type": "code",
   "execution_count": 8,
   "id": "d33a49d4",
   "metadata": {},
   "outputs": [
    {
     "data": {
      "text/plain": [
       "(5,)"
      ]
     },
     "execution_count": 8,
     "metadata": {},
     "output_type": "execute_result"
    }
   ],
   "source": [
    "a.shape"
   ]
  },
  {
   "cell_type": "code",
   "execution_count": 9,
   "id": "329273ac",
   "metadata": {},
   "outputs": [],
   "source": [
    "b = np.array([[1], [2], [3], [4], [5]])"
   ]
  },
  {
   "cell_type": "code",
   "execution_count": 10,
   "id": "3bbd3a51",
   "metadata": {},
   "outputs": [
    {
     "data": {
      "text/plain": [
       "(5, 1)"
      ]
     },
     "execution_count": 10,
     "metadata": {},
     "output_type": "execute_result"
    }
   ],
   "source": [
    "b.shape"
   ]
  },
  {
   "cell_type": "code",
   "execution_count": 11,
   "id": "47a52718",
   "metadata": {},
   "outputs": [
    {
     "name": "stdout",
     "output_type": "stream",
     "text": [
      "(5, 1) [[1]\n",
      " [2]\n",
      " [3]\n",
      " [4]\n",
      " [5]]\n"
     ]
    }
   ],
   "source": [
    "print(b.shape, b)"
   ]
  },
  {
   "cell_type": "code",
   "execution_count": 37,
   "id": "f6a06db3",
   "metadata": {},
   "outputs": [
    {
     "data": {
      "text/plain": [
       "array([1, 1, 1])"
      ]
     },
     "execution_count": 37,
     "metadata": {},
     "output_type": "execute_result"
    }
   ],
   "source": [
    "b[0]"
   ]
  },
  {
   "cell_type": "code",
   "execution_count": 38,
   "id": "81af97be",
   "metadata": {},
   "outputs": [
    {
     "data": {
      "text/plain": [
       "1"
      ]
     },
     "execution_count": 38,
     "metadata": {},
     "output_type": "execute_result"
    }
   ],
   "source": [
    "b[0][0]"
   ]
  },
  {
   "cell_type": "code",
   "execution_count": 39,
   "id": "2d43c4c3",
   "metadata": {},
   "outputs": [],
   "source": [
    "b = np.array([[1,2],[2,4],[3,8],[4,0],[5,22]])"
   ]
  },
  {
   "cell_type": "code",
   "execution_count": 40,
   "id": "7a579f5d",
   "metadata": {},
   "outputs": [
    {
     "name": "stdout",
     "output_type": "stream",
     "text": [
      "(5, 2) [[ 1  2]\n",
      " [ 2  4]\n",
      " [ 3  8]\n",
      " [ 4  0]\n",
      " [ 5 22]]\n"
     ]
    }
   ],
   "source": [
    "print(b.shape, b)"
   ]
  },
  {
   "cell_type": "code",
   "execution_count": 41,
   "id": "e3b5db5d",
   "metadata": {},
   "outputs": [
    {
     "data": {
      "text/plain": [
       "array([1, 2])"
      ]
     },
     "execution_count": 41,
     "metadata": {},
     "output_type": "execute_result"
    }
   ],
   "source": [
    "b[0]"
   ]
  },
  {
   "cell_type": "code",
   "execution_count": 42,
   "id": "0ec93ed8",
   "metadata": {},
   "outputs": [
    {
     "data": {
      "text/plain": [
       "22"
      ]
     },
     "execution_count": 42,
     "metadata": {},
     "output_type": "execute_result"
    }
   ],
   "source": [
    "b[4][1]"
   ]
  },
  {
   "cell_type": "code",
   "execution_count": 43,
   "id": "c73989c6",
   "metadata": {},
   "outputs": [
    {
     "data": {
      "text/plain": [
       "0"
      ]
     },
     "execution_count": 43,
     "metadata": {},
     "output_type": "execute_result"
    }
   ],
   "source": [
    "b[3][1]"
   ]
  },
  {
   "cell_type": "code",
   "execution_count": 44,
   "id": "7a36ce8e",
   "metadata": {},
   "outputs": [
    {
     "data": {
      "text/plain": [
       "4"
      ]
     },
     "execution_count": 44,
     "metadata": {},
     "output_type": "execute_result"
    }
   ],
   "source": [
    "b[1][1]"
   ]
  },
  {
   "cell_type": "code",
   "execution_count": 45,
   "id": "65ad9465",
   "metadata": {},
   "outputs": [],
   "source": [
    "b[4][1] = 99"
   ]
  },
  {
   "cell_type": "code",
   "execution_count": 46,
   "id": "bcab79f4",
   "metadata": {},
   "outputs": [
    {
     "data": {
      "text/plain": [
       "array([[ 1,  2],\n",
       "       [ 2,  4],\n",
       "       [ 3,  8],\n",
       "       [ 4,  0],\n",
       "       [ 5, 99]])"
      ]
     },
     "execution_count": 46,
     "metadata": {},
     "output_type": "execute_result"
    }
   ],
   "source": [
    "b"
   ]
  },
  {
   "cell_type": "code",
   "execution_count": 47,
   "id": "6186bb8a",
   "metadata": {},
   "outputs": [],
   "source": [
    "#The above example proves that b is mutable"
   ]
  },
  {
   "cell_type": "code",
   "execution_count": 48,
   "id": "564189b7",
   "metadata": {},
   "outputs": [],
   "source": [
    "a = np.zeros((3,3))"
   ]
  },
  {
   "cell_type": "code",
   "execution_count": 49,
   "id": "f39545c6",
   "metadata": {},
   "outputs": [
    {
     "data": {
      "text/plain": [
       "array([[0., 0., 0.],\n",
       "       [0., 0., 0.],\n",
       "       [0., 0., 0.]])"
      ]
     },
     "execution_count": 49,
     "metadata": {},
     "output_type": "execute_result"
    }
   ],
   "source": [
    "a"
   ]
  },
  {
   "cell_type": "code",
   "execution_count": 50,
   "id": "026ac8f7",
   "metadata": {},
   "outputs": [],
   "source": [
    "b = np.ones((3,3))"
   ]
  },
  {
   "cell_type": "code",
   "execution_count": 51,
   "id": "5905e00a",
   "metadata": {},
   "outputs": [
    {
     "data": {
      "text/plain": [
       "array([[1., 1., 1.],\n",
       "       [1., 1., 1.],\n",
       "       [1., 1., 1.]])"
      ]
     },
     "execution_count": 51,
     "metadata": {},
     "output_type": "execute_result"
    }
   ],
   "source": [
    "b"
   ]
  },
  {
   "cell_type": "code",
   "execution_count": 52,
   "id": "f7a5141a",
   "metadata": {},
   "outputs": [
    {
     "data": {
      "text/plain": [
       "dtype('float64')"
      ]
     },
     "execution_count": 52,
     "metadata": {},
     "output_type": "execute_result"
    }
   ],
   "source": [
    "b.dtype"
   ]
  },
  {
   "cell_type": "code",
   "execution_count": 53,
   "id": "8e86e4e0",
   "metadata": {},
   "outputs": [],
   "source": [
    "b = np.ones(((3,3)), dtype = 'int32')"
   ]
  },
  {
   "cell_type": "code",
   "execution_count": 54,
   "id": "496715a4",
   "metadata": {},
   "outputs": [
    {
     "data": {
      "text/plain": [
       "array([[1, 1, 1],\n",
       "       [1, 1, 1],\n",
       "       [1, 1, 1]])"
      ]
     },
     "execution_count": 54,
     "metadata": {},
     "output_type": "execute_result"
    }
   ],
   "source": [
    "b"
   ]
  },
  {
   "cell_type": "code",
   "execution_count": 55,
   "id": "3c7e01d1",
   "metadata": {},
   "outputs": [],
   "source": [
    "np.zeros?"
   ]
  },
  {
   "cell_type": "code",
   "execution_count": 56,
   "id": "5d062ab2",
   "metadata": {},
   "outputs": [],
   "source": [
    "c = np.full((2,3), 5)"
   ]
  },
  {
   "cell_type": "code",
   "execution_count": 57,
   "id": "b264a5b5",
   "metadata": {},
   "outputs": [
    {
     "name": "stdout",
     "output_type": "stream",
     "text": [
      "[[5 5 5]\n",
      " [5 5 5]] (2, 3)\n"
     ]
    }
   ],
   "source": [
    "print(c, c.shape)"
   ]
  },
  {
   "cell_type": "code",
   "execution_count": 58,
   "id": "ef2bd1f4",
   "metadata": {},
   "outputs": [],
   "source": [
    "eye = np.eye(4)"
   ]
  },
  {
   "cell_type": "code",
   "execution_count": 59,
   "id": "995a267d",
   "metadata": {},
   "outputs": [
    {
     "data": {
      "text/plain": [
       "array([[1., 0., 0., 0.],\n",
       "       [0., 1., 0., 0.],\n",
       "       [0., 0., 1., 0.],\n",
       "       [0., 0., 0., 1.]])"
      ]
     },
     "execution_count": 59,
     "metadata": {},
     "output_type": "execute_result"
    }
   ],
   "source": [
    "eye"
   ]
  },
  {
   "cell_type": "code",
   "execution_count": 60,
   "id": "4fa1c2a0",
   "metadata": {},
   "outputs": [],
   "source": [
    "eye = np.eye(4, dtype = 'int')"
   ]
  },
  {
   "cell_type": "code",
   "execution_count": 61,
   "id": "343567be",
   "metadata": {},
   "outputs": [
    {
     "data": {
      "text/plain": [
       "array([[1, 0, 0, 0],\n",
       "       [0, 1, 0, 0],\n",
       "       [0, 0, 1, 0],\n",
       "       [0, 0, 0, 1]])"
      ]
     },
     "execution_count": 61,
     "metadata": {},
     "output_type": "execute_result"
    }
   ],
   "source": [
    "eye"
   ]
  },
  {
   "cell_type": "code",
   "execution_count": 62,
   "id": "e2b1d375",
   "metadata": {},
   "outputs": [],
   "source": [
    "random_matrix = np.random.random((4,2))"
   ]
  },
  {
   "cell_type": "code",
   "execution_count": null,
   "id": "df0fd98d",
   "metadata": {},
   "outputs": [],
   "source": [
    "random_matrix"
   ]
  },
  {
   "cell_type": "code",
   "execution_count": 46,
   "id": "6a6820d5",
   "metadata": {},
   "outputs": [],
   "source": [
    "random_matrix = np.random.random((4,3))"
   ]
  },
  {
   "cell_type": "code",
   "execution_count": 47,
   "id": "18764fc0",
   "metadata": {},
   "outputs": [
    {
     "data": {
      "text/plain": [
       "array([[0.83841322, 0.22881147, 0.54613324],\n",
       "       [0.373873  , 0.56055259, 0.32964586],\n",
       "       [0.73676321, 0.09786476, 0.43261423],\n",
       "       [0.51574342, 0.35488551, 0.74086577]])"
      ]
     },
     "execution_count": 47,
     "metadata": {},
     "output_type": "execute_result"
    }
   ],
   "source": [
    "random_matrix"
   ]
  },
  {
   "cell_type": "code",
   "execution_count": 48,
   "id": "a1378c2c",
   "metadata": {},
   "outputs": [
    {
     "name": "stdout",
     "output_type": "stream",
     "text": [
      "[0.54613324 0.32964586 0.43261423 0.74086577]\n"
     ]
    }
   ],
   "source": [
    "print(random_matrix[:, 2])"
   ]
  },
  {
   "cell_type": "code",
   "execution_count": 53,
   "id": "8548658e",
   "metadata": {},
   "outputs": [
    {
     "name": "stdout",
     "output_type": "stream",
     "text": [
      "[[1 2]\n",
      " [3 4]] [[5 6]\n",
      " [7 8]]\n",
      "(2, 2) (2, 2)\n"
     ]
    }
   ],
   "source": [
    "# Mathematical operations in numpy\n",
    "\n",
    "x = np.array([[1,2],[3,4]])\n",
    "y = np.array([[5,6],[7,8]])\n",
    "\n",
    "print(x,y)\n",
    "print(x.shape, y.shape)"
   ]
  },
  {
   "cell_type": "code",
   "execution_count": 54,
   "id": "005b86c1",
   "metadata": {},
   "outputs": [
    {
     "name": "stdout",
     "output_type": "stream",
     "text": [
      "[[ 6  8]\n",
      " [10 12]] [[ 6  8]\n",
      " [10 12]]\n"
     ]
    }
   ],
   "source": [
    "print(x+y, np.add(x,y))"
   ]
  },
  {
   "cell_type": "code",
   "execution_count": 56,
   "id": "0c6485f6",
   "metadata": {},
   "outputs": [
    {
     "name": "stdout",
     "output_type": "stream",
     "text": [
      "[[-4 -4]\n",
      " [-4 -4]] [[-4 -4]\n",
      " [-4 -4]]\n"
     ]
    }
   ],
   "source": [
    "print(x-y, np.subtract(x,y))"
   ]
  },
  {
   "cell_type": "code",
   "execution_count": 58,
   "id": "b716982d",
   "metadata": {},
   "outputs": [
    {
     "name": "stdout",
     "output_type": "stream",
     "text": [
      "[[ 5 12]\n",
      " [21 32]] [[ 5 12]\n",
      " [21 32]]\n"
     ]
    }
   ],
   "source": [
    "print(x*y, np.multiply(x,y))"
   ]
  },
  {
   "cell_type": "code",
   "execution_count": 59,
   "id": "77046718",
   "metadata": {},
   "outputs": [
    {
     "name": "stdout",
     "output_type": "stream",
     "text": [
      "[[0.2        0.33333333]\n",
      " [0.42857143 0.5       ]] [[0.2        0.33333333]\n",
      " [0.42857143 0.5       ]]\n"
     ]
    }
   ],
   "source": [
    "print(x/y, np.divide(x,y))"
   ]
  },
  {
   "cell_type": "code",
   "execution_count": 60,
   "id": "7e7c9cac",
   "metadata": {},
   "outputs": [
    {
     "name": "stdout",
     "output_type": "stream",
     "text": [
      "[[1.         1.41421356]\n",
      " [1.73205081 2.        ]] [[2.23606798 2.44948974]\n",
      " [2.64575131 2.82842712]]\n"
     ]
    }
   ],
   "source": [
    "print(np.sqrt(x), np.sqrt(y))"
   ]
  },
  {
   "cell_type": "code",
   "execution_count": 61,
   "id": "77a3f9bd",
   "metadata": {},
   "outputs": [
    {
     "name": "stdout",
     "output_type": "stream",
     "text": [
      "[[19 22]\n",
      " [43 50]] [[19 22]\n",
      " [43 50]]\n"
     ]
    }
   ],
   "source": [
    "print(x.dot(y), np.dot(x,y)) #Matrix multiplication"
   ]
  },
  {
   "cell_type": "code",
   "execution_count": 62,
   "id": "759600c6",
   "metadata": {},
   "outputs": [],
   "source": [
    "a = np.array([1,2,3,4,5])"
   ]
  },
  {
   "cell_type": "code",
   "execution_count": 63,
   "id": "3bec5ac9",
   "metadata": {},
   "outputs": [
    {
     "name": "stdout",
     "output_type": "stream",
     "text": [
      "15 15\n"
     ]
    }
   ],
   "source": [
    "print(sum(a), np.sum(a))"
   ]
  },
  {
   "cell_type": "code",
   "execution_count": 64,
   "id": "4fd642d6",
   "metadata": {},
   "outputs": [],
   "source": [
    "a = np.array([[1,2,3,4,5], [6,7,8,9,10]])"
   ]
  },
  {
   "cell_type": "code",
   "execution_count": 65,
   "id": "f414aa40",
   "metadata": {},
   "outputs": [],
   "source": [
    "np.sum?"
   ]
  },
  {
   "cell_type": "code",
   "execution_count": 67,
   "id": "13f388bf",
   "metadata": {},
   "outputs": [
    {
     "data": {
      "text/plain": [
       "(2, 5)"
      ]
     },
     "execution_count": 67,
     "metadata": {},
     "output_type": "execute_result"
    }
   ],
   "source": [
    "a.shape"
   ]
  },
  {
   "cell_type": "code",
   "execution_count": 68,
   "id": "4f2d2f08",
   "metadata": {},
   "outputs": [
    {
     "name": "stdout",
     "output_type": "stream",
     "text": [
      "[ 7  9 11 13 15]\n"
     ]
    }
   ],
   "source": [
    "print(np.sum(a, axis = 0))"
   ]
  },
  {
   "cell_type": "code",
   "execution_count": 69,
   "id": "19127415",
   "metadata": {},
   "outputs": [
    {
     "name": "stdout",
     "output_type": "stream",
     "text": [
      "[15 40]\n"
     ]
    }
   ],
   "source": [
    "print(np.sum(a, axis = 1))"
   ]
  },
  {
   "cell_type": "code",
   "execution_count": 99,
   "id": "6932d3a0",
   "metadata": {},
   "outputs": [],
   "source": [
    "a = np.array([1,2,3,4,5])\n",
    "b = np.array([1,2,3,4,5])\n",
    "b = b**2"
   ]
  },
  {
   "cell_type": "code",
   "execution_count": 100,
   "id": "9c1a1de7",
   "metadata": {},
   "outputs": [
    {
     "data": {
      "text/plain": [
       "array([ 1,  4,  9, 16, 25])"
      ]
     },
     "execution_count": 100,
     "metadata": {},
     "output_type": "execute_result"
    }
   ],
   "source": [
    "b"
   ]
  },
  {
   "cell_type": "code",
   "execution_count": 101,
   "id": "f4fa9df1",
   "metadata": {},
   "outputs": [
    {
     "data": {
      "text/plain": [
       "array([1, 2, 3, 4, 5])"
      ]
     },
     "execution_count": 101,
     "metadata": {},
     "output_type": "execute_result"
    }
   ],
   "source": [
    "a"
   ]
  },
  {
   "cell_type": "code",
   "execution_count": 102,
   "id": "117810fd",
   "metadata": {},
   "outputs": [],
   "source": [
    "stacked = np.stack((a,b), axis = 1)"
   ]
  },
  {
   "cell_type": "code",
   "execution_count": 103,
   "id": "5621de70",
   "metadata": {},
   "outputs": [
    {
     "data": {
      "text/plain": [
       "array([[ 1,  1],\n",
       "       [ 2,  4],\n",
       "       [ 3,  9],\n",
       "       [ 4, 16],\n",
       "       [ 5, 25]])"
      ]
     },
     "execution_count": 103,
     "metadata": {},
     "output_type": "execute_result"
    }
   ],
   "source": [
    "stacked"
   ]
  },
  {
   "cell_type": "code",
   "execution_count": 104,
   "id": "d47ccf5b",
   "metadata": {},
   "outputs": [],
   "source": [
    "stacked = np.stack((a,b), axis = 0)"
   ]
  },
  {
   "cell_type": "code",
   "execution_count": 105,
   "id": "ba100599",
   "metadata": {},
   "outputs": [
    {
     "data": {
      "text/plain": [
       "array([[ 1,  2,  3,  4,  5],\n",
       "       [ 1,  4,  9, 16, 25]])"
      ]
     },
     "execution_count": 105,
     "metadata": {},
     "output_type": "execute_result"
    }
   ],
   "source": [
    "stacked"
   ]
  },
  {
   "cell_type": "code",
   "execution_count": 106,
   "id": "8c7b92a6",
   "metadata": {},
   "outputs": [
    {
     "data": {
      "text/plain": [
       "(2, 5)"
      ]
     },
     "execution_count": 106,
     "metadata": {},
     "output_type": "execute_result"
    }
   ],
   "source": [
    "stacked.shape"
   ]
  },
  {
   "cell_type": "code",
   "execution_count": 107,
   "id": "a0a99830",
   "metadata": {},
   "outputs": [],
   "source": [
    "stacked = np.stack((a,b), axis = 1)"
   ]
  },
  {
   "cell_type": "code",
   "execution_count": 108,
   "id": "d129f8ce",
   "metadata": {},
   "outputs": [
    {
     "data": {
      "text/plain": [
       "(5, 2)"
      ]
     },
     "execution_count": 108,
     "metadata": {},
     "output_type": "execute_result"
    }
   ],
   "source": [
    "stacked.shape"
   ]
  },
  {
   "cell_type": "code",
   "execution_count": 109,
   "id": "eb0fa021",
   "metadata": {},
   "outputs": [
    {
     "data": {
      "text/plain": [
       "array([[ 1,  1,  2,  4,  3],\n",
       "       [ 9,  4, 16,  5, 25]])"
      ]
     },
     "execution_count": 109,
     "metadata": {},
     "output_type": "execute_result"
    }
   ],
   "source": [
    "stacked.reshape((2,5))"
   ]
  },
  {
   "cell_type": "code",
   "execution_count": 110,
   "id": "331eb002",
   "metadata": {},
   "outputs": [
    {
     "data": {
      "text/plain": [
       "array([[ 1,  1],\n",
       "       [ 2,  4],\n",
       "       [ 3,  9],\n",
       "       [ 4, 16],\n",
       "       [ 5, 25]])"
      ]
     },
     "execution_count": 110,
     "metadata": {},
     "output_type": "execute_result"
    }
   ],
   "source": [
    "stacked.reshape((5,2))"
   ]
  },
  {
   "cell_type": "code",
   "execution_count": 95,
   "id": "7bf72c32",
   "metadata": {},
   "outputs": [],
   "source": [
    "a = np.array([1,2,3,4,5,6])\n",
    "b = np.array([1,2,3,4,5,6])\n",
    "b = b**2"
   ]
  },
  {
   "cell_type": "code",
   "execution_count": 96,
   "id": "fb9a302f",
   "metadata": {},
   "outputs": [
    {
     "data": {
      "text/plain": [
       "array([[ 1,  1,  2,  4,  3,  9,  4, 16,  5, 25,  6, 36]])"
      ]
     },
     "execution_count": 96,
     "metadata": {},
     "output_type": "execute_result"
    }
   ],
   "source": [
    "stacked.reshape((-1,12))"
   ]
  },
  {
   "cell_type": "code",
   "execution_count": 97,
   "id": "c7306953",
   "metadata": {},
   "outputs": [
    {
     "data": {
      "text/plain": [
       "array([[ 1,  1,  2,  4,  3,  9],\n",
       "       [ 4, 16,  5, 25,  6, 36]])"
      ]
     },
     "execution_count": 97,
     "metadata": {},
     "output_type": "execute_result"
    }
   ],
   "source": [
    "stacked.reshape((-1,6))"
   ]
  },
  {
   "cell_type": "code",
   "execution_count": 98,
   "id": "3346ce95",
   "metadata": {},
   "outputs": [
    {
     "data": {
      "text/plain": [
       "array([[ 1],\n",
       "       [ 1],\n",
       "       [ 2],\n",
       "       [ 4],\n",
       "       [ 3],\n",
       "       [ 9],\n",
       "       [ 4],\n",
       "       [16],\n",
       "       [ 5],\n",
       "       [25],\n",
       "       [ 6],\n",
       "       [36]])"
      ]
     },
     "execution_count": 98,
     "metadata": {},
     "output_type": "execute_result"
    }
   ],
   "source": [
    "stacked.reshape((12,-1))"
   ]
  },
  {
   "cell_type": "code",
   "execution_count": 113,
   "id": "59dc02e7",
   "metadata": {},
   "outputs": [
    {
     "name": "stdout",
     "output_type": "stream",
     "text": [
      "[ 1  2  3  4  5  6  7  8  9 10]\n"
     ]
    }
   ],
   "source": [
    "a = np.arange(10) + 1\n",
    "print(a)"
   ]
  },
  {
   "cell_type": "code",
   "execution_count": 114,
   "id": "d9c71f37",
   "metadata": {},
   "outputs": [
    {
     "name": "stdout",
     "output_type": "stream",
     "text": [
      "0\n",
      "1\n",
      "2\n",
      "3\n",
      "4\n",
      "5\n",
      "6\n",
      "7\n",
      "8\n",
      "9\n"
     ]
    }
   ],
   "source": [
    "for i in range(10):\n",
    "    print(i)"
   ]
  },
  {
   "cell_type": "code",
   "execution_count": 115,
   "id": "38b928cd",
   "metadata": {},
   "outputs": [
    {
     "name": "stdout",
     "output_type": "stream",
     "text": [
      "[[0.37732543 0.88568502 0.56159206]\n",
      " [0.41488438 0.83608412 0.64480749]]\n"
     ]
    }
   ],
   "source": [
    "a = np.random.rand(2, 3)\n",
    "print(a)"
   ]
  },
  {
   "cell_type": "code",
   "execution_count": 116,
   "id": "a03bfe76",
   "metadata": {},
   "outputs": [
    {
     "name": "stdout",
     "output_type": "stream",
     "text": [
      "[[-1.46150055 -0.56331274  2.49156451]\n",
      " [ 1.21109237  0.10530219 -0.37478818]]\n"
     ]
    }
   ],
   "source": [
    "a = np.random.randn(2, 3) #These are sampled from normal distribution a.k.a. bell curve a.k.a. gaussian distribution\n",
    "print(a)"
   ]
  },
  {
   "cell_type": "code",
   "execution_count": 117,
   "id": "375134d6",
   "metadata": {},
   "outputs": [],
   "source": [
    "a = np.random.randint(5,20,5)"
   ]
  },
  {
   "cell_type": "code",
   "execution_count": 118,
   "id": "20f26d80",
   "metadata": {},
   "outputs": [
    {
     "data": {
      "text/plain": [
       "array([ 7, 13, 16,  8,  8])"
      ]
     },
     "execution_count": 118,
     "metadata": {},
     "output_type": "execute_result"
    }
   ],
   "source": [
    "a"
   ]
  },
  {
   "cell_type": "code",
   "execution_count": 120,
   "id": "296ff754",
   "metadata": {},
   "outputs": [],
   "source": [
    "a = np.random.choice?"
   ]
  },
  {
   "cell_type": "code",
   "execution_count": 121,
   "id": "bce82fb7",
   "metadata": {},
   "outputs": [
    {
     "name": "stdout",
     "output_type": "stream",
     "text": [
      "[ 6 47 93]\n"
     ]
    }
   ],
   "source": [
    "#Choice between numbers or array of numbers\n",
    "\n",
    "a = np.random.choice(np.arange(100), size = 3)\n",
    "print(a)"
   ]
  },
  {
   "cell_type": "code",
   "execution_count": 122,
   "id": "ceea7c74",
   "metadata": {},
   "outputs": [
    {
     "name": "stdout",
     "output_type": "stream",
     "text": [
      "[ 9 25 25  1  9  4  9  4 16  1  1 25  4  1 16  4 25  9  1  9  9 16 16  9\n",
      "  1 16  4 16 16  1]\n"
     ]
    }
   ],
   "source": [
    "a = np.random.choice(b, size = 30, replace = True)\n",
    "print(a)"
   ]
  },
  {
   "cell_type": "code",
   "execution_count": 125,
   "id": "0b855dbd",
   "metadata": {},
   "outputs": [],
   "source": [
    "np.random.seed(1) #To print/generate the \"same\" random numbers on all computers/laptops\n",
    "rand_int = np.random.randint(1,1000,100)"
   ]
  },
  {
   "cell_type": "code",
   "execution_count": 126,
   "id": "681b1ca6",
   "metadata": {},
   "outputs": [
    {
     "name": "stdout",
     "output_type": "stream",
     "text": [
      "[ 38 236 909  73 768 906 716 646 848 961 145 130 973 584 750 509 391 282\n",
      " 179 277 255 358 915 469 908 253 491 669 926 399 563 581 216 984 754 504\n",
      " 479 865  87 142 394   8 320 830 535 314 514 897 317 210 265 729 654 628\n",
      " 432 634 457 543  72 388 455 918 562 314 516 965 793 498  44 589  27 821\n",
      " 337 622 884 298 467  16  65 197  26 368 739 472 904 283 666 617  23 778\n",
      " 708 127 280 382 357 156 934 314 596 167]\n"
     ]
    }
   ],
   "source": [
    "print(rand_int)"
   ]
  },
  {
   "cell_type": "code",
   "execution_count": 127,
   "id": "052e92ce",
   "metadata": {},
   "outputs": [
    {
     "name": "stdout",
     "output_type": "stream",
     "text": [
      "(50, 2)\n"
     ]
    }
   ],
   "source": [
    "rand_int = rand_int.reshape(-1, 2)\n",
    "print(rand_int.shape)"
   ]
  },
  {
   "cell_type": "code",
   "execution_count": 134,
   "id": "0dbaab9e",
   "metadata": {},
   "outputs": [
    {
     "name": "stdout",
     "output_type": "stream",
     "text": [
      "[[ 38 236]\n",
      " [909  73]\n",
      " [768 906]\n",
      " [716 646]\n",
      " [848 961]\n",
      " [145 130]\n",
      " [973 584]\n",
      " [750 509]\n",
      " [391 282]\n",
      " [179 277]\n",
      " [255 358]\n",
      " [915 469]\n",
      " [908 253]\n",
      " [491 669]\n",
      " [926 399]\n",
      " [563 581]\n",
      " [216 984]\n",
      " [754 504]\n",
      " [479 865]\n",
      " [ 87 142]\n",
      " [394   8]\n",
      " [320 830]\n",
      " [535 314]\n",
      " [514 897]\n",
      " [317 210]\n",
      " [265 729]\n",
      " [654 628]\n",
      " [432 634]\n",
      " [457 543]\n",
      " [ 72 388]\n",
      " [455 918]\n",
      " [562 314]\n",
      " [516 965]\n",
      " [793 498]\n",
      " [ 44 589]\n",
      " [ 27 821]\n",
      " [337 622]\n",
      " [884 298]\n",
      " [467  16]\n",
      " [ 65 197]\n",
      " [ 26 368]\n",
      " [739 472]\n",
      " [904 283]\n",
      " [666 617]\n",
      " [ 23 778]\n",
      " [708 127]\n",
      " [280 382]\n",
      " [357 156]\n",
      " [934 314]\n",
      " [596 167]]\n"
     ]
    }
   ],
   "source": [
    "print(rand_int)"
   ]
  },
  {
   "cell_type": "code",
   "execution_count": 128,
   "id": "147d29a9",
   "metadata": {},
   "outputs": [
    {
     "name": "stdout",
     "output_type": "stream",
     "text": [
      "8\n"
     ]
    }
   ],
   "source": [
    "print(np.min(rand_int))"
   ]
  },
  {
   "cell_type": "code",
   "execution_count": 129,
   "id": "c7a2d835",
   "metadata": {},
   "outputs": [
    {
     "name": "stdout",
     "output_type": "stream",
     "text": [
      "984\n"
     ]
    }
   ],
   "source": [
    "print(np.max(rand_int))"
   ]
  },
  {
   "cell_type": "code",
   "execution_count": 130,
   "id": "ad2e228d",
   "metadata": {},
   "outputs": [
    {
     "name": "stdout",
     "output_type": "stream",
     "text": [
      "[23  8]\n"
     ]
    }
   ],
   "source": [
    "print(np.min(rand_int, axis = 0))"
   ]
  },
  {
   "cell_type": "code",
   "execution_count": 132,
   "id": "9adc144a",
   "metadata": {},
   "outputs": [
    {
     "name": "stdout",
     "output_type": "stream",
     "text": [
      "[236 909 906 716 961 145 973 750 391 277 358 915 908 669 926 581 984 754\n",
      " 865 142 394 830 535 897 317 729 654 634 543 388 918 562 965 793 589 821\n",
      " 622 884 467 197 368 739 904 666 778 708 382 357 934 596]\n"
     ]
    }
   ],
   "source": [
    "print(np.max(rand_int, axis = 1))"
   ]
  },
  {
   "cell_type": "code",
   "execution_count": 135,
   "id": "4edb6dcc",
   "metadata": {},
   "outputs": [
    {
     "name": "stdout",
     "output_type": "stream",
     "text": [
      "[137.  491.  837.  681.  904.5 137.5 778.5 629.5 336.5 228.  306.5 692.\n",
      " 580.5 580.  662.5 572.  600.  629.  672.  114.5 201.  575.  424.5 705.5\n",
      " 263.5 497.  641.  533.  500.  230.  686.5 438.  740.5 645.5 316.5 424.\n",
      " 479.5 591.  241.5 131.  197.  605.5 593.5 641.5 400.5 417.5 331.  256.5\n",
      " 624.  381.5]\n"
     ]
    }
   ],
   "source": [
    "print(np.mean(rand_int, axis = 1))"
   ]
  },
  {
   "cell_type": "code",
   "execution_count": 144,
   "id": "7540826d",
   "metadata": {},
   "outputs": [],
   "source": [
    "rand_int = rand_int.reshape(-1,)"
   ]
  },
  {
   "cell_type": "code",
   "execution_count": 145,
   "id": "35735dd4",
   "metadata": {},
   "outputs": [
    {
     "data": {
      "text/plain": [
       "(100,)"
      ]
     },
     "execution_count": 145,
     "metadata": {},
     "output_type": "execute_result"
    }
   ],
   "source": [
    "rand_int.shape"
   ]
  },
  {
   "cell_type": "code",
   "execution_count": 146,
   "id": "0a435be5",
   "metadata": {},
   "outputs": [
    {
     "name": "stdout",
     "output_type": "stream",
     "text": [
      "475.5\n"
     ]
    }
   ],
   "source": [
    "print(np.median(rand_int))"
   ]
  },
  {
   "cell_type": "code",
   "execution_count": 147,
   "id": "03446a44",
   "metadata": {},
   "outputs": [
    {
     "name": "stdout",
     "output_type": "stream",
     "text": [
      "485.65\n"
     ]
    }
   ],
   "source": [
    "print(sum(rand_int)/len(rand_int))"
   ]
  },
  {
   "cell_type": "code",
   "execution_count": 148,
   "id": "279722c9",
   "metadata": {},
   "outputs": [
    {
     "name": "stdout",
     "output_type": "stream",
     "text": [
      "[  1   2   3   4   5   6   7   8   9  10  11  12  13  14  15  16  17  18\n",
      "  19  20  21  22  23  24  25  26  27  28  29  30  31  32  33  34  35  36\n",
      "  37  38  39  40  41  42  43  44  45  46  47  48  49  50  51  52  53  54\n",
      "  55  56  57  58  59  60  61  62  63  64  65  66  67  68  69  70  71  72\n",
      "  73  74  75  76  77  78  79  80  81  82  83  84  85  86  87  88  89  90\n",
      "  91  92  93  94  95  96  97  98  99 100]\n"
     ]
    }
   ],
   "source": [
    "weights = np.arange(100) + 1\n",
    "print(weights)"
   ]
  },
  {
   "cell_type": "code",
   "execution_count": 150,
   "id": "d116acaa",
   "metadata": {},
   "outputs": [
    {
     "name": "stdout",
     "output_type": "stream",
     "text": [
      "464.10534653465345\n"
     ]
    }
   ],
   "source": [
    "#Weighted Mean\n",
    "print(np.average(rand_int, weights = weights))"
   ]
  },
  {
   "cell_type": "code",
   "execution_count": 151,
   "id": "df37a841",
   "metadata": {},
   "outputs": [],
   "source": [
    "u = np.mean(rand_int)"
   ]
  },
  {
   "cell_type": "code",
   "execution_count": 152,
   "id": "393f100c",
   "metadata": {},
   "outputs": [],
   "source": [
    "std_dev = np.sqrt(np.mean(abs(rand_int - u)**2))"
   ]
  },
  {
   "cell_type": "code",
   "execution_count": 153,
   "id": "13a90a1f",
   "metadata": {},
   "outputs": [
    {
     "data": {
      "text/plain": [
       "282.9695522490008"
      ]
     },
     "execution_count": 153,
     "metadata": {},
     "output_type": "execute_result"
    }
   ],
   "source": [
    "std_dev"
   ]
  },
  {
   "cell_type": "code",
   "execution_count": 154,
   "id": "53246810",
   "metadata": {},
   "outputs": [
    {
     "name": "stdout",
     "output_type": "stream",
     "text": [
      "282.9695522490008\n"
     ]
    }
   ],
   "source": [
    "std_dev = np.std(rand_int)\n",
    "print(std_dev)"
   ]
  },
  {
   "cell_type": "code",
   "execution_count": 155,
   "id": "b7fa50b4",
   "metadata": {},
   "outputs": [
    {
     "name": "stdout",
     "output_type": "stream",
     "text": [
      "80071.76749999999 80071.76749999999\n"
     ]
    }
   ],
   "source": [
    "print(std_dev**2, np.var(rand_int))"
   ]
  },
  {
   "cell_type": "code",
   "execution_count": 36,
   "id": "00454d53",
   "metadata": {},
   "outputs": [
    {
     "ename": "NameError",
     "evalue": "name 'rand_int' is not defined",
     "output_type": "error",
     "traceback": [
      "\u001b[1;31m---------------------------------------------------------------------------\u001b[0m",
      "\u001b[1;31mNameError\u001b[0m                                 Traceback (most recent call last)",
      "Cell \u001b[1;32mIn[36], line 1\u001b[0m\n\u001b[1;32m----> 1\u001b[0m rand_int \u001b[38;5;241m=\u001b[39m \u001b[38;5;28mlist\u001b[39m(\u001b[43mrand_int\u001b[49m)\n\u001b[0;32m      2\u001b[0m \u001b[38;5;28mprint\u001b[39m(\u001b[38;5;28mlen\u001b[39m(rand_int))\n",
      "\u001b[1;31mNameError\u001b[0m: name 'rand_int' is not defined"
     ]
    }
   ],
   "source": [
    "rand_int = list(rand_int)\n",
    "print(len(rand_int))"
   ]
  },
  {
   "cell_type": "code",
   "execution_count": null,
   "id": "a42f8e22",
   "metadata": {},
   "outputs": [],
   "source": [
    "len(set(rand_int))"
   ]
  }
 ],
 "metadata": {
  "kernelspec": {
   "display_name": "Python 3 (ipykernel)",
   "language": "python",
   "name": "python3"
  },
  "language_info": {
   "codemirror_mode": {
    "name": "ipython",
    "version": 3
   },
   "file_extension": ".py",
   "mimetype": "text/x-python",
   "name": "python",
   "nbconvert_exporter": "python",
   "pygments_lexer": "ipython3",
   "version": "3.8.6"
  }
 },
 "nbformat": 4,
 "nbformat_minor": 5
}
