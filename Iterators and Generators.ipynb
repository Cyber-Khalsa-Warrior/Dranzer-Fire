{
 "cells": [
  {
   "cell_type": "code",
   "execution_count": 1,
   "id": "1e13664a",
   "metadata": {},
   "outputs": [],
   "source": [
    "#Non-Iterable ==> e.g. set i.e. a set cannot be iterated\n",
    "#Iterable ==> e.g. list i.e. a list can be iterated\n",
    "\n",
    "# A non-iterable item such as a set needs to be first converted into an iterable item such as a list so that it can be \n",
    "# iterated\n",
    "\n",
    "#Iterate ==>\n",
    "#Iterable ==>\n",
    "#Iterator ==>"
   ]
  },
  {
   "cell_type": "code",
   "execution_count": 2,
   "id": "92439a31",
   "metadata": {},
   "outputs": [],
   "source": [
    "a = [1,2,3,4]\n",
    "a_iter = iter(a)"
   ]
  },
  {
   "cell_type": "code",
   "execution_count": 3,
   "id": "17675d19",
   "metadata": {},
   "outputs": [
    {
     "data": {
      "text/plain": [
       "1"
      ]
     },
     "execution_count": 3,
     "metadata": {},
     "output_type": "execute_result"
    }
   ],
   "source": [
    "next(a_iter)"
   ]
  },
  {
   "cell_type": "code",
   "execution_count": 4,
   "id": "4988de0c",
   "metadata": {},
   "outputs": [
    {
     "name": "stdout",
     "output_type": "stream",
     "text": [
      "0\n",
      "1\n",
      "2\n",
      "3\n",
      "4\n",
      "5\n",
      "6\n",
      "7\n",
      "8\n",
      "9\n"
     ]
    }
   ],
   "source": [
    "for i in range(10):\n",
    "    print(i)"
   ]
  },
  {
   "cell_type": "code",
   "execution_count": 8,
   "id": "c131dd0f",
   "metadata": {},
   "outputs": [
    {
     "name": "stdout",
     "output_type": "stream",
     "text": [
      "1\n",
      "2\n",
      "3\n",
      "4\n"
     ]
    }
   ],
   "source": [
    "for i in a:\n",
    "    print(i)"
   ]
  },
  {
   "cell_type": "code",
   "execution_count": 16,
   "id": "e36d7795",
   "metadata": {},
   "outputs": [],
   "source": [
    "#Generator ==> "
   ]
  },
  {
   "cell_type": "code",
   "execution_count": 27,
   "id": "d0db5beb",
   "metadata": {},
   "outputs": [],
   "source": [
    "# import math"
   ]
  },
  {
   "cell_type": "code",
   "execution_count": 28,
   "id": "588801ae",
   "metadata": {},
   "outputs": [],
   "source": [
    "#FIBONACCI SERIES\n",
    "class fib:\n",
    "    def __init__(self):\n",
    "        self.prev = 0\n",
    "        self.curr = 1\n",
    "    def __iter__(self):\n",
    "        return self\n",
    "    def __next__(self):\n",
    "        value = self.curr\n",
    "        self.curr += self.prev\n",
    "        return value"
   ]
  },
  {
   "cell_type": "code",
   "execution_count": 29,
   "id": "dea5bced",
   "metadata": {},
   "outputs": [
    {
     "data": {
      "text/plain": [
       "1"
      ]
     },
     "execution_count": 29,
     "metadata": {},
     "output_type": "execute_result"
    }
   ],
   "source": [
    "f = fib()\n",
    "f_iter = iter(f)\n",
    "next(f_iter)"
   ]
  },
  {
   "cell_type": "code",
   "execution_count": 30,
   "id": "503eb8d7",
   "metadata": {},
   "outputs": [],
   "source": [
    "def fibo():\n",
    "    prev, curr = 0, 1\n",
    "    while True:\n",
    "        yield curr\n",
    "        prev, curr = curr, prev + curr"
   ]
  },
  {
   "cell_type": "code",
   "execution_count": 33,
   "id": "429e69dc",
   "metadata": {},
   "outputs": [
    {
     "data": {
      "text/plain": [
       "function"
      ]
     },
     "execution_count": 33,
     "metadata": {},
     "output_type": "execute_result"
    }
   ],
   "source": [
    "type(fibo)"
   ]
  },
  {
   "cell_type": "code",
   "execution_count": 32,
   "id": "284183ba",
   "metadata": {},
   "outputs": [
    {
     "data": {
      "text/plain": [
       "generator"
      ]
     },
     "execution_count": 32,
     "metadata": {},
     "output_type": "execute_result"
    }
   ],
   "source": [
    "type(fibo())"
   ]
  },
  {
   "cell_type": "code",
   "execution_count": 34,
   "id": "cb0f2f05",
   "metadata": {},
   "outputs": [],
   "source": [
    "a = print"
   ]
  },
  {
   "cell_type": "code",
   "execution_count": 35,
   "id": "dc8dc0c1",
   "metadata": {},
   "outputs": [
    {
     "name": "stdout",
     "output_type": "stream",
     "text": [
      "print\n"
     ]
    }
   ],
   "source": [
    "a(\"print\")"
   ]
  },
  {
   "cell_type": "code",
   "execution_count": 36,
   "id": "7e85339f",
   "metadata": {},
   "outputs": [],
   "source": [
    "gen = fibo()"
   ]
  },
  {
   "cell_type": "code",
   "execution_count": 38,
   "id": "f4a501ea",
   "metadata": {},
   "outputs": [
    {
     "name": "stdout",
     "output_type": "stream",
     "text": [
      "573147844013817084101\n",
      "927372692193078999176\n",
      "1500520536206896083277\n",
      "2427893228399975082453\n",
      "3928413764606871165730\n",
      "6356306993006846248183\n",
      "10284720757613717413913\n",
      "16641027750620563662096\n",
      "26925748508234281076009\n",
      "43566776258854844738105\n",
      "70492524767089125814114\n",
      "114059301025943970552219\n",
      "184551825793033096366333\n",
      "298611126818977066918552\n",
      "483162952612010163284885\n",
      "781774079430987230203437\n",
      "1264937032042997393488322\n",
      "2046711111473984623691759\n",
      "3311648143516982017180081\n",
      "5358359254990966640871840\n",
      "8670007398507948658051921\n",
      "14028366653498915298923761\n",
      "22698374052006863956975682\n",
      "36726740705505779255899443\n",
      "59425114757512643212875125\n",
      "96151855463018422468774568\n",
      "155576970220531065681649693\n",
      "251728825683549488150424261\n",
      "407305795904080553832073954\n",
      "659034621587630041982498215\n",
      "1066340417491710595814572169\n",
      "1725375039079340637797070384\n",
      "2791715456571051233611642553\n",
      "4517090495650391871408712937\n",
      "7308805952221443105020355490\n",
      "11825896447871834976429068427\n",
      "19134702400093278081449423917\n",
      "30960598847965113057878492344\n",
      "50095301248058391139327916261\n",
      "81055900096023504197206408605\n",
      "131151201344081895336534324866\n",
      "212207101440105399533740733471\n",
      "343358302784187294870275058337\n",
      "555565404224292694404015791808\n",
      "898923707008479989274290850145\n",
      "1454489111232772683678306641953\n",
      "2353412818241252672952597492098\n",
      "3807901929474025356630904134051\n",
      "6161314747715278029583501626149\n",
      "9969216677189303386214405760200\n",
      "16130531424904581415797907386349\n",
      "26099748102093884802012313146549\n",
      "42230279526998466217810220532898\n",
      "68330027629092351019822533679447\n",
      "110560307156090817237632754212345\n",
      "178890334785183168257455287891792\n",
      "289450641941273985495088042104137\n",
      "468340976726457153752543329995929\n",
      "757791618667731139247631372100066\n",
      "1226132595394188293000174702095995\n",
      "1983924214061919432247806074196061\n",
      "3210056809456107725247980776292056\n",
      "5193981023518027157495786850488117\n",
      "8404037832974134882743767626780173\n",
      "13598018856492162040239554477268290\n",
      "22002056689466296922983322104048463\n",
      "35600075545958458963222876581316753\n",
      "57602132235424755886206198685365216\n",
      "93202207781383214849429075266681969\n",
      "150804340016807970735635273952047185\n",
      "244006547798191185585064349218729154\n",
      "394810887814999156320699623170776339\n",
      "638817435613190341905763972389505493\n",
      "1033628323428189498226463595560281832\n",
      "1672445759041379840132227567949787325\n",
      "2706074082469569338358691163510069157\n",
      "4378519841510949178490918731459856482\n",
      "7084593923980518516849609894969925639\n",
      "11463113765491467695340528626429782121\n",
      "18547707689471986212190138521399707760\n",
      "30010821454963453907530667147829489881\n",
      "48558529144435440119720805669229197641\n",
      "78569350599398894027251472817058687522\n",
      "127127879743834334146972278486287885163\n",
      "205697230343233228174223751303346572685\n",
      "332825110087067562321196029789634457848\n",
      "538522340430300790495419781092981030533\n",
      "871347450517368352816615810882615488381\n",
      "1409869790947669143312035591975596518914\n",
      "2281217241465037496128651402858212007295\n",
      "3691087032412706639440686994833808526209\n",
      "5972304273877744135569338397692020533504\n",
      "9663391306290450775010025392525829059713\n",
      "15635695580168194910579363790217849593217\n",
      "25299086886458645685589389182743678652930\n",
      "40934782466626840596168752972961528246147\n",
      "66233869353085486281758142155705206899077\n",
      "107168651819712326877926895128666735145224\n",
      "173402521172797813159685037284371942044301\n",
      "280571172992510140037611932413038677189525\n"
     ]
    }
   ],
   "source": [
    "for i in range(100):\n",
    "    print(next(gen))"
   ]
  },
  {
   "cell_type": "code",
   "execution_count": 39,
   "id": "fde5a69b",
   "metadata": {},
   "outputs": [
    {
     "data": {
      "text/plain": [
       "453973694165307953197296969697410619233826"
      ]
     },
     "execution_count": 39,
     "metadata": {},
     "output_type": "execute_result"
    }
   ],
   "source": [
    "next(gen)"
   ]
  },
  {
   "cell_type": "code",
   "execution_count": null,
   "id": "7cda4366",
   "metadata": {},
   "outputs": [],
   "source": []
  }
 ],
 "metadata": {
  "kernelspec": {
   "display_name": "Python 3 (ipykernel)",
   "language": "python",
   "name": "python3"
  },
  "language_info": {
   "codemirror_mode": {
    "name": "ipython",
    "version": 3
   },
   "file_extension": ".py",
   "mimetype": "text/x-python",
   "name": "python",
   "nbconvert_exporter": "python",
   "pygments_lexer": "ipython3",
   "version": "3.8.6"
  }
 },
 "nbformat": 4,
 "nbformat_minor": 5
}
