{
 "cells": [
  {
   "cell_type": "code",
   "execution_count": 5,
   "id": "215441d4",
   "metadata": {},
   "outputs": [],
   "source": [
    "file = open(\"hello.txt\", 'r')"
   ]
  },
  {
   "cell_type": "code",
   "execution_count": 6,
   "id": "d3d8f949",
   "metadata": {},
   "outputs": [
    {
     "data": {
      "text/plain": [
       "'Hi\\nMy'"
      ]
     },
     "execution_count": 6,
     "metadata": {},
     "output_type": "execute_result"
    }
   ],
   "source": [
    "file.read(5) # It is used to read a certain portion of the file upto the number entered in the attribute section"
   ]
  },
  {
   "cell_type": "code",
   "execution_count": 7,
   "id": "cebb8d23",
   "metadata": {},
   "outputs": [
    {
     "data": {
      "text/plain": [
       "' name is Harjeet'"
      ]
     },
     "execution_count": 7,
     "metadata": {},
     "output_type": "execute_result"
    }
   ],
   "source": [
    "file.read()"
   ]
  },
  {
   "cell_type": "code",
   "execution_count": 8,
   "id": "8a347eb5",
   "metadata": {},
   "outputs": [
    {
     "data": {
      "text/plain": [
       "0"
      ]
     },
     "execution_count": 8,
     "metadata": {},
     "output_type": "execute_result"
    }
   ],
   "source": [
    "file.seek(0)"
   ]
  },
  {
   "cell_type": "code",
   "execution_count": 9,
   "id": "067e8109",
   "metadata": {},
   "outputs": [
    {
     "data": {
      "text/plain": [
       "'Hi\\nMy name is Harjeet'"
      ]
     },
     "execution_count": 9,
     "metadata": {},
     "output_type": "execute_result"
    }
   ],
   "source": [
    "file.read()"
   ]
  },
  {
   "cell_type": "code",
   "execution_count": 12,
   "id": "abf49cfd",
   "metadata": {},
   "outputs": [],
   "source": [
    "file.close()"
   ]
  },
  {
   "cell_type": "code",
   "execution_count": 19,
   "id": "4b05d9ff",
   "metadata": {},
   "outputs": [
    {
     "name": "stdout",
     "output_type": "stream",
     "text": [
      "Hi\n",
      "My name is Harjeet\n"
     ]
    }
   ],
   "source": [
    "with open(\"C:/Users/Brar/Desktop/Jupyter Notebook/hello.txt\", 'r') as file:\n",
    "    print(file.read())"
   ]
  },
  {
   "cell_type": "code",
   "execution_count": 17,
   "id": "97e7bda7",
   "metadata": {},
   "outputs": [
    {
     "ename": "ValueError",
     "evalue": "I/O operation on closed file.",
     "output_type": "error",
     "traceback": [
      "\u001b[1;31m---------------------------------------------------------------------------\u001b[0m",
      "\u001b[1;31mValueError\u001b[0m                                Traceback (most recent call last)",
      "Cell \u001b[1;32mIn [17], line 1\u001b[0m\n\u001b[1;32m----> 1\u001b[0m \u001b[43mfile\u001b[49m\u001b[38;5;241;43m.\u001b[39;49m\u001b[43mreadlines\u001b[49m\u001b[43m(\u001b[49m\u001b[43m)\u001b[49m\n",
      "\u001b[1;31mValueError\u001b[0m: I/O operation on closed file."
     ]
    }
   ],
   "source": [
    "file.readlines() # Indentation error will come, indentation with respect to \"with\" command should be kept"
   ]
  },
  {
   "cell_type": "code",
   "execution_count": 20,
   "id": "9df3e9be",
   "metadata": {},
   "outputs": [],
   "source": [
    "file.close()"
   ]
  },
  {
   "cell_type": "code",
   "execution_count": 24,
   "id": "a8dec260",
   "metadata": {},
   "outputs": [],
   "source": [
    "# file.close() ===> It is important to close the file after use otherwise it can cause problems if someone keeps using\n",
    "# read/write commands as the file will remain open in the background and it will keep overwriting existing data"
   ]
  },
  {
   "cell_type": "code",
   "execution_count": 25,
   "id": "ba59a234",
   "metadata": {},
   "outputs": [
    {
     "data": {
      "text/plain": [
       "''"
      ]
     },
     "execution_count": 25,
     "metadata": {},
     "output_type": "execute_result"
    }
   ],
   "source": [
    "file.readline() # It is used to read entire line"
   ]
  },
  {
   "cell_type": "code",
   "execution_count": 2,
   "id": "c63186fa",
   "metadata": {},
   "outputs": [
    {
     "data": {
      "text/plain": [
       "['Hi\\n', 'My name is Harjeet']"
      ]
     },
     "execution_count": 2,
     "metadata": {},
     "output_type": "execute_result"
    }
   ],
   "source": [
    "file.readlines() # It is used to read entire lines"
   ]
  },
  {
   "cell_type": "code",
   "execution_count": 3,
   "id": "24bf008a",
   "metadata": {},
   "outputs": [],
   "source": [
    "file.close()"
   ]
  },
  {
   "cell_type": "code",
   "execution_count": 1,
   "id": "881255dd",
   "metadata": {},
   "outputs": [],
   "source": [
    "file2 = open(\"temp.txt\", 'w') # It will automatically create a file if the file doesn't already exist"
   ]
  },
  {
   "cell_type": "code",
   "execution_count": 2,
   "id": "02da42de",
   "metadata": {},
   "outputs": [
    {
     "data": {
      "text/plain": [
       "5"
      ]
     },
     "execution_count": 2,
     "metadata": {},
     "output_type": "execute_result"
    }
   ],
   "source": [
    "file2.write(\"Hello\")"
   ]
  },
  {
   "cell_type": "code",
   "execution_count": 4,
   "id": "22811c3b",
   "metadata": {},
   "outputs": [],
   "source": [
    "file2.close()"
   ]
  },
  {
   "cell_type": "code",
   "execution_count": null,
   "id": "e89093cf",
   "metadata": {},
   "outputs": [],
   "source": [
    "JSON FILES # It is a javascript file but it can be used in other languages as well\n",
    "# Files shared across multiple languages & platforms"
   ]
  },
  {
   "cell_type": "code",
   "execution_count": 21,
   "id": "dde68990",
   "metadata": {},
   "outputs": [
    {
     "data": {
      "text/plain": [
       "{'name': 'Harjeet', 'age': '34', 'marks': 50}"
      ]
     },
     "execution_count": 21,
     "metadata": {},
     "output_type": "execute_result"
    }
   ],
   "source": [
    "{\n",
    "    \"name\":\"Harjeet\",\n",
    "    \"age\":\"34\",\n",
    "    \"marks\":50\n",
    "}"
   ]
  },
  {
   "cell_type": "code",
   "execution_count": 23,
   "id": "25b0c105",
   "metadata": {},
   "outputs": [],
   "source": [
    "import json"
   ]
  },
  {
   "cell_type": "code",
   "execution_count": 28,
   "id": "83c2302e",
   "metadata": {},
   "outputs": [
    {
     "name": "stdout",
     "output_type": "stream",
     "text": [
      "0001011011\n"
     ]
    }
   ],
   "source": [
    "with open(\"C:/Users/Brar/Desktop/Jupyter Notebook/BTcode.json\", 'r') as data:\n",
    "    d = json.load(data)\n",
    "    print(d[\"50\"][\"BTcode\"])   "
   ]
  },
  {
   "cell_type": "code",
   "execution_count": 2,
   "id": "9af8a154",
   "metadata": {},
   "outputs": [],
   "source": [
    "# json.dump(object,file object) <=== syntax\n",
    "# dump function is used to write data onto a file i.e. when objects have to be stored in a file\n",
    "# dump method/function is exclusively used for a json file only\n",
    "# write method/function is used for a txt file only"
   ]
  },
  {
   "cell_type": "code",
   "execution_count": 34,
   "id": "ba0417e0",
   "metadata": {},
   "outputs": [],
   "source": [
    "d = {\n",
    "    \"name\":\"Harjeet\",\n",
    "    \"age\":34,\n",
    "    \"marks\":50\n",
    "}"
   ]
  },
  {
   "cell_type": "code",
   "execution_count": 35,
   "id": "ae62b416",
   "metadata": {},
   "outputs": [
    {
     "name": "stdout",
     "output_type": "stream",
     "text": [
      "<class 'dict'>\n"
     ]
    }
   ],
   "source": [
    "print(type(d))"
   ]
  },
  {
   "cell_type": "code",
   "execution_count": 37,
   "id": "42a3cae3",
   "metadata": {},
   "outputs": [
    {
     "name": "stdout",
     "output_type": "stream",
     "text": [
      "<class 'str'>\n"
     ]
    }
   ],
   "source": [
    "with open(\"temp_json.json\", 'w') as file:\n",
    "    json.dump(d, file)\n",
    "    print(str)"
   ]
  },
  {
   "cell_type": "code",
   "execution_count": 46,
   "id": "62da1fe0",
   "metadata": {},
   "outputs": [],
   "source": [
    "file.close()"
   ]
  },
  {
   "cell_type": "code",
   "execution_count": 47,
   "id": "88f40dac",
   "metadata": {},
   "outputs": [],
   "source": [
    "#DECORATORS ==> To change the nature of a function using another function\n",
    "users = {\n",
    "    \"Harjeet\":\"password\",\n",
    "    \"Rohit\":\"coding blocks\"\n",
    "}"
   ]
  },
  {
   "cell_type": "code",
   "execution_count": 48,
   "id": "b5a0a0f3",
   "metadata": {},
   "outputs": [],
   "source": [
    "def show(username,password):\n",
    "    if username in users and users[username] == password:\n",
    "        print(\"hello world\")\n",
    "    else:\n",
    "        print(\"not authenticated\")"
   ]
  },
  {
   "cell_type": "code",
   "execution_count": 49,
   "id": "a31ab8ca",
   "metadata": {},
   "outputs": [
    {
     "name": "stdout",
     "output_type": "stream",
     "text": [
      "hello world\n"
     ]
    }
   ],
   "source": [
    "show(\"Harjeet\",\"password\")"
   ]
  },
  {
   "cell_type": "code",
   "execution_count": 50,
   "id": "f01bec72",
   "metadata": {},
   "outputs": [],
   "source": [
    "def add(username,password,a,b):\n",
    "    if username in users and users[username] == password:\n",
    "        print(a+b)\n",
    "    else:\n",
    "        print(\"not authenticated\")"
   ]
  },
  {
   "cell_type": "code",
   "execution_count": 52,
   "id": "5cfbcb6b",
   "metadata": {},
   "outputs": [
    {
     "name": "stdout",
     "output_type": "stream",
     "text": [
      "not authenticated\n"
     ]
    }
   ],
   "source": [
    "add(\"Harjeet\",\"password123\",1,2)"
   ]
  },
  {
   "cell_type": "code",
   "execution_count": null,
   "id": "eaeae838",
   "metadata": {},
   "outputs": [],
   "source": [
    "def login_requ(func):\n",
    "    def wrapper(username,password, *args, **kwargs):\n",
    "        if username in users and users[username] == password:\n",
    "            func(*args, **kwargs)\n",
    "        else:\n",
    "            print(\"Not Authenticated\")\n",
    "    return wrapper"
   ]
  },
  {
   "cell_type": "code",
   "execution_count": null,
   "id": "25db6a00",
   "metadata": {},
   "outputs": [],
   "source": []
  },
  {
   "cell_type": "code",
   "execution_count": 3,
   "id": "545ce955",
   "metadata": {},
   "outputs": [],
   "source": [
    "a = (1,2,3)\n",
    "def random(a):\n",
    "    print(a)"
   ]
  },
  {
   "cell_type": "code",
   "execution_count": 4,
   "id": "9658c0ba",
   "metadata": {},
   "outputs": [
    {
     "name": "stdout",
     "output_type": "stream",
     "text": [
      "(1, 2, 3)\n"
     ]
    }
   ],
   "source": [
    "random(a)"
   ]
  },
  {
   "cell_type": "code",
   "execution_count": null,
   "id": "440dc14c",
   "metadata": {},
   "outputs": [],
   "source": [
    "a = (1,2,3)\n",
    "def random(*args):\n",
    "    print(*args)"
   ]
  },
  {
   "cell_type": "code",
   "execution_count": 56,
   "id": "7d42903e",
   "metadata": {},
   "outputs": [],
   "source": [
    "#ERROR HANDLING\n",
    "def div(a,b):\n",
    "    try:\n",
    "        print(a/b)\n",
    "    except:\n",
    "        print(\"Zero Error\")\n",
    "    print(\"Hello\")"
   ]
  },
  {
   "cell_type": "code",
   "execution_count": 57,
   "id": "d514023c",
   "metadata": {},
   "outputs": [
    {
     "name": "stdout",
     "output_type": "stream",
     "text": [
      "Zero Error\n",
      "Hello\n"
     ]
    }
   ],
   "source": [
    "div(10,0)"
   ]
  },
  {
   "cell_type": "code",
   "execution_count": 62,
   "id": "0eebb0c0",
   "metadata": {},
   "outputs": [],
   "source": [
    "def div(a,b):\n",
    "    try:\n",
    "        print(a/b)\n",
    "    except ZeroDivisionError:\n",
    "        print(\"Zero Error\")\n",
    "    except:\n",
    "        print(\"Some Randon Error Occured\")\n",
    "    finally:\n",
    "        print(\"Chelega hi chalega\")"
   ]
  },
  {
   "cell_type": "code",
   "execution_count": 61,
   "id": "2a043415",
   "metadata": {},
   "outputs": [
    {
     "name": "stdout",
     "output_type": "stream",
     "text": [
      "Some Randon Error Occured\n",
      "Chelega hi chalega\n"
     ]
    }
   ],
   "source": [
    "div(10, \"Hello\")"
   ]
  },
  {
   "cell_type": "code",
   "execution_count": 63,
   "id": "b29cddfb",
   "metadata": {},
   "outputs": [],
   "source": [
    "def div(a,b):\n",
    "    try:\n",
    "        print(a/b)\n",
    "#     except ZeroDivisionError:\n",
    "#         print(\"Zero Error\")\n",
    "#     except Exception as e:\n",
    "#         print(str(e))\n",
    "#     except:\n",
    "#         print(\"Some Randon Error Occured\")\n",
    "    except:\n",
    "        raise Exception(\"My custom error\")\n",
    "    finally:\n",
    "        print(\"Chelega hi chalega\")\n"
   ]
  },
  {
   "cell_type": "code",
   "execution_count": null,
   "id": "04434f83",
   "metadata": {},
   "outputs": [],
   "source": []
  }
 ],
 "metadata": {
  "kernelspec": {
   "display_name": "Python 3 (ipykernel)",
   "language": "python",
   "name": "python3"
  },
  "language_info": {
   "codemirror_mode": {
    "name": "ipython",
    "version": 3
   },
   "file_extension": ".py",
   "mimetype": "text/x-python",
   "name": "python",
   "nbconvert_exporter": "python",
   "pygments_lexer": "ipython3",
   "version": "3.8.6"
  }
 },
 "nbformat": 4,
 "nbformat_minor": 5
}
