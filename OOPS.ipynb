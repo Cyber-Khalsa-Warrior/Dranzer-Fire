{
 "cells": [
  {
   "cell_type": "code",
   "execution_count": 1,
   "id": "1ea18176",
   "metadata": {},
   "outputs": [],
   "source": [
    "a = 1"
   ]
  },
  {
   "cell_type": "code",
   "execution_count": 3,
   "id": "79d6eeaa",
   "metadata": {},
   "outputs": [
    {
     "name": "stdout",
     "output_type": "stream",
     "text": [
      "<class 'int'>\n"
     ]
    }
   ],
   "source": [
    "print(type(a))"
   ]
  },
  {
   "cell_type": "code",
   "execution_count": 4,
   "id": "b2667f99",
   "metadata": {},
   "outputs": [],
   "source": [
    "a = 's'"
   ]
  },
  {
   "cell_type": "code",
   "execution_count": 5,
   "id": "96417bc8",
   "metadata": {},
   "outputs": [
    {
     "name": "stdout",
     "output_type": "stream",
     "text": [
      "<class 'str'>\n"
     ]
    }
   ],
   "source": [
    "print(type(a))"
   ]
  },
  {
   "cell_type": "code",
   "execution_count": 6,
   "id": "f4084c56",
   "metadata": {},
   "outputs": [],
   "source": [
    "a = print"
   ]
  },
  {
   "cell_type": "code",
   "execution_count": 7,
   "id": "889e3b7f",
   "metadata": {},
   "outputs": [
    {
     "name": "stdout",
     "output_type": "stream",
     "text": [
      "Hello World\n"
     ]
    }
   ],
   "source": [
    "print(\"Hello World\")"
   ]
  },
  {
   "cell_type": "code",
   "execution_count": 8,
   "id": "626bd76b",
   "metadata": {},
   "outputs": [],
   "source": [
    "def temp():\n",
    "    print(\"Temp Function\")"
   ]
  },
  {
   "cell_type": "code",
   "execution_count": 9,
   "id": "3d0e8daf",
   "metadata": {},
   "outputs": [],
   "source": [
    "a = 1"
   ]
  },
  {
   "cell_type": "code",
   "execution_count": 10,
   "id": "bd8711a1",
   "metadata": {},
   "outputs": [
    {
     "name": "stdout",
     "output_type": "stream",
     "text": [
      "Temp Function\n"
     ]
    }
   ],
   "source": [
    "temp()"
   ]
  },
  {
   "cell_type": "code",
   "execution_count": 11,
   "id": "abcffb49",
   "metadata": {},
   "outputs": [],
   "source": [
    "#Generally methods are dependent on attributes"
   ]
  },
  {
   "cell_type": "code",
   "execution_count": 12,
   "id": "076b587e",
   "metadata": {},
   "outputs": [],
   "source": [
    "# PROPERTIES OF CLASS:-\n",
    "\n",
    "# 1) Encapsulation ==> Property that combines the common attributes and methods of any object of that class.\n",
    "# 2) Abstraction ==> No need to know the actual implementation but only the signature(blueprint) of the method.\n",
    "#Abstraction meaning in Hindi ==> Koi function background mein exactly operate kaise karta hai wo na pata ho bas itna  \n",
    "                                # pata ho ke wo function exist karta hai aur wo function basically karta kya hai.\n",
    "# 3) Inheritence ==> To inherit the properties \n",
    "# 4) Polymorphism ==> To exist in many different forms i.e. same function can take different data types as inputs."
   ]
  },
  {
   "cell_type": "code",
   "execution_count": 13,
   "id": "fe4fb777",
   "metadata": {},
   "outputs": [],
   "source": [
    "class person:\n",
    "    pass"
   ]
  },
  {
   "cell_type": "code",
   "execution_count": 14,
   "id": "8104b595",
   "metadata": {},
   "outputs": [],
   "source": [
    "p = person()"
   ]
  },
  {
   "cell_type": "code",
   "execution_count": 15,
   "id": "1725a8a1",
   "metadata": {},
   "outputs": [
    {
     "name": "stdout",
     "output_type": "stream",
     "text": [
      "<__main__.person object at 0x0000000005F8C220>\n"
     ]
    }
   ],
   "source": [
    "print(p)"
   ]
  },
  {
   "cell_type": "code",
   "execution_count": 16,
   "id": "e5305ff1",
   "metadata": {},
   "outputs": [
    {
     "name": "stdout",
     "output_type": "stream",
     "text": [
      "<class '__main__.person'>\n"
     ]
    }
   ],
   "source": [
    "print(person)"
   ]
  },
  {
   "cell_type": "code",
   "execution_count": 17,
   "id": "feca1146",
   "metadata": {},
   "outputs": [],
   "source": [
    "a = 1"
   ]
  },
  {
   "cell_type": "code",
   "execution_count": 18,
   "id": "b25a7e9a",
   "metadata": {},
   "outputs": [
    {
     "name": "stdout",
     "output_type": "stream",
     "text": [
      "<class 'int'>\n"
     ]
    }
   ],
   "source": [
    "print(type(a))"
   ]
  },
  {
   "cell_type": "code",
   "execution_count": 19,
   "id": "6bc51fb5",
   "metadata": {},
   "outputs": [],
   "source": [
    "a = '1'"
   ]
  },
  {
   "cell_type": "code",
   "execution_count": 20,
   "id": "ce58c6b6",
   "metadata": {},
   "outputs": [
    {
     "name": "stdout",
     "output_type": "stream",
     "text": [
      "<class 'str'>\n"
     ]
    }
   ],
   "source": [
    "print(type(a))"
   ]
  },
  {
   "cell_type": "code",
   "execution_count": 21,
   "id": "4aa688a5",
   "metadata": {},
   "outputs": [
    {
     "name": "stdout",
     "output_type": "stream",
     "text": [
      "True\n"
     ]
    }
   ],
   "source": [
    "print(isinstance(a,object))"
   ]
  },
  {
   "cell_type": "code",
   "execution_count": 22,
   "id": "92f7430f",
   "metadata": {},
   "outputs": [],
   "source": [
    "a = print"
   ]
  },
  {
   "cell_type": "code",
   "execution_count": 23,
   "id": "118ae263",
   "metadata": {},
   "outputs": [
    {
     "name": "stdout",
     "output_type": "stream",
     "text": [
      "<class 'builtin_function_or_method'>\n"
     ]
    }
   ],
   "source": [
    "print(type(a))"
   ]
  },
  {
   "cell_type": "code",
   "execution_count": 24,
   "id": "0f9431a3",
   "metadata": {},
   "outputs": [],
   "source": [
    "a = 1"
   ]
  },
  {
   "cell_type": "code",
   "execution_count": 25,
   "id": "7da629e7",
   "metadata": {},
   "outputs": [
    {
     "name": "stdout",
     "output_type": "stream",
     "text": [
      "<class 'int'>\n"
     ]
    }
   ],
   "source": [
    "print(type(1))"
   ]
  },
  {
   "cell_type": "code",
   "execution_count": 26,
   "id": "4b0a197c",
   "metadata": {},
   "outputs": [],
   "source": [
    "class person:\n",
    "    name = \"Harjeet\"\n",
    "    \n",
    "    def say_hi(self):\n",
    "        print(\"Hi\",self.name)"
   ]
  },
  {
   "cell_type": "code",
   "execution_count": 27,
   "id": "2f7d5257",
   "metadata": {},
   "outputs": [
    {
     "name": "stdout",
     "output_type": "stream",
     "text": [
      "Hi Harjeet\n"
     ]
    }
   ],
   "source": [
    "p = person()\n",
    "p.say_hi()"
   ]
  },
  {
   "cell_type": "code",
   "execution_count": 28,
   "id": "380c9b79",
   "metadata": {},
   "outputs": [
    {
     "name": "stdout",
     "output_type": "stream",
     "text": [
      "Hi Harjeet\n"
     ]
    }
   ],
   "source": [
    "person().say_hi()"
   ]
  },
  {
   "cell_type": "code",
   "execution_count": 31,
   "id": "a2d89b1e",
   "metadata": {},
   "outputs": [],
   "source": [
    "def add(*args):\n",
    "    sum = 0\n",
    "    for i in args:\n",
    "        sum = sum + i\n",
    "    print(\"Sum = \", sum)"
   ]
  },
  {
   "cell_type": "code",
   "execution_count": 32,
   "id": "d2b30b57",
   "metadata": {},
   "outputs": [
    {
     "name": "stdout",
     "output_type": "stream",
     "text": [
      "Sum =  25\n"
     ]
    }
   ],
   "source": [
    "add(1,3,5,7,9)"
   ]
  },
  {
   "cell_type": "code",
   "execution_count": 37,
   "id": "94e15af8",
   "metadata": {},
   "outputs": [],
   "source": [
    "# INIT METHOD =====> Dunders or Magic Methods\n",
    "# __init__() ====> Dunders\n",
    "\n",
    "class person:\n",
    "    def __init__(self, name): #It's referred to as either \"Magic Methods\" or \"Dunders\". Also, init function runs \n",
    "        print(\"Ran\")\n",
    "        self.name = name\n",
    "        \n",
    "    def say_hi(self):\n",
    "        print(\"Name of the person is: \", self.name)"
   ]
  },
  {
   "cell_type": "code",
   "execution_count": 38,
   "id": "34291fbc",
   "metadata": {},
   "outputs": [
    {
     "name": "stdout",
     "output_type": "stream",
     "text": [
      "Ran\n"
     ]
    }
   ],
   "source": [
    "p = person(\"Harjeet\")"
   ]
  },
  {
   "cell_type": "code",
   "execution_count": 39,
   "id": "0ac82038",
   "metadata": {},
   "outputs": [
    {
     "name": "stdout",
     "output_type": "stream",
     "text": [
      "Hello\n"
     ]
    }
   ],
   "source": [
    "print(\"Hello\")"
   ]
  },
  {
   "cell_type": "code",
   "execution_count": 40,
   "id": "2463be6b",
   "metadata": {},
   "outputs": [
    {
     "name": "stdout",
     "output_type": "stream",
     "text": [
      "Name of the person is:  Harjeet\n"
     ]
    }
   ],
   "source": [
    "p.say_hi()"
   ]
  },
  {
   "cell_type": "code",
   "execution_count": 41,
   "id": "acc57a12",
   "metadata": {},
   "outputs": [],
   "source": [
    "# DUNDERS a.k.a. Magic Methods\n",
    "# __init__(self,other):\n",
    "# __add__(self,other):\n",
    "# __sub__(self,other):\n",
    "# __matmul__(self,other):\n",
    "# __str__(self,other):\n",
    "# __eq__(self,other):"
   ]
  },
  {
   "cell_type": "code",
   "execution_count": 45,
   "id": "2d3621af",
   "metadata": {},
   "outputs": [],
   "source": [
    "class car:\n",
    "    def __init__(self, model, mileage):\n",
    "        self.model = model\n",
    "        self.mileage = mileage\n",
    "        \n",
    "    def __add__(self, other):\n",
    "        return self.mileage + other.mileage\n",
    "    \n",
    "    def __eq__(self, other):\n",
    "        return self.mileage == other.mileage"
   ]
  },
  {
   "cell_type": "code",
   "execution_count": 46,
   "id": "0115efb4",
   "metadata": {},
   "outputs": [],
   "source": [
    "c1 = car(\"A\",2)\n",
    "c2 = car(\"B\",4)"
   ]
  },
  {
   "cell_type": "code",
   "execution_count": 47,
   "id": "411eb0ec",
   "metadata": {},
   "outputs": [
    {
     "data": {
      "text/plain": [
       "6"
      ]
     },
     "execution_count": 47,
     "metadata": {},
     "output_type": "execute_result"
    }
   ],
   "source": [
    "c1+c2"
   ]
  },
  {
   "cell_type": "code",
   "execution_count": 49,
   "id": "41a01765",
   "metadata": {},
   "outputs": [
    {
     "data": {
      "text/plain": [
       "False"
      ]
     },
     "execution_count": 49,
     "metadata": {},
     "output_type": "execute_result"
    }
   ],
   "source": [
    "c1 == c2"
   ]
  },
  {
   "cell_type": "code",
   "execution_count": 50,
   "id": "36f57b5f",
   "metadata": {},
   "outputs": [],
   "source": [
    "class dog:\n",
    "    def __init__(self, name,):\n",
    "        self.name = name"
   ]
  },
  {
   "cell_type": "code",
   "execution_count": 53,
   "id": "309a4c63",
   "metadata": {},
   "outputs": [],
   "source": [
    "a = dog('Pug')"
   ]
  },
  {
   "cell_type": "code",
   "execution_count": 54,
   "id": "f0f08e15",
   "metadata": {},
   "outputs": [
    {
     "data": {
      "text/plain": [
       "'Pug'"
      ]
     },
     "execution_count": 54,
     "metadata": {},
     "output_type": "execute_result"
    }
   ],
   "source": [
    "a.name"
   ]
  },
  {
   "cell_type": "code",
   "execution_count": 55,
   "id": "efe3b928",
   "metadata": {},
   "outputs": [],
   "source": [
    "b = dog('Labra')"
   ]
  },
  {
   "cell_type": "code",
   "execution_count": 56,
   "id": "29bdceb8",
   "metadata": {},
   "outputs": [
    {
     "data": {
      "text/plain": [
       "'Labra'"
      ]
     },
     "execution_count": 56,
     "metadata": {},
     "output_type": "execute_result"
    }
   ],
   "source": [
    "b.name"
   ]
  },
  {
   "cell_type": "code",
   "execution_count": 57,
   "id": "15520ad7",
   "metadata": {},
   "outputs": [],
   "source": [
    "b.name = \"Puppy\""
   ]
  },
  {
   "cell_type": "code",
   "execution_count": 58,
   "id": "381eb7ed",
   "metadata": {},
   "outputs": [
    {
     "data": {
      "text/plain": [
       "'Puppy'"
      ]
     },
     "execution_count": 58,
     "metadata": {},
     "output_type": "execute_result"
    }
   ],
   "source": [
    "b.name"
   ]
  },
  {
   "cell_type": "code",
   "execution_count": 59,
   "id": "dd8aee90",
   "metadata": {},
   "outputs": [],
   "source": [
    "ab = \"Hi\""
   ]
  },
  {
   "cell_type": "code",
   "execution_count": 60,
   "id": "2300afe3",
   "metadata": {},
   "outputs": [
    {
     "data": {
      "text/plain": [
       "'Hi'"
      ]
     },
     "execution_count": 60,
     "metadata": {},
     "output_type": "execute_result"
    }
   ],
   "source": [
    "ab"
   ]
  },
  {
   "cell_type": "code",
   "execution_count": 61,
   "id": "0e343d2f",
   "metadata": {},
   "outputs": [],
   "source": [
    "ab = \"No\""
   ]
  },
  {
   "cell_type": "code",
   "execution_count": 62,
   "id": "2bf64be0",
   "metadata": {},
   "outputs": [
    {
     "data": {
      "text/plain": [
       "'No'"
      ]
     },
     "execution_count": 62,
     "metadata": {},
     "output_type": "execute_result"
    }
   ],
   "source": [
    "ab"
   ]
  },
  {
   "cell_type": "code",
   "execution_count": 67,
   "id": "ae4d8b71",
   "metadata": {},
   "outputs": [],
   "source": [
    "class dog:\n",
    "    tricks = []\n",
    "    \n",
    "    def __init__(self, name):\n",
    "        self.name = name\n",
    "        \n",
    "    def add_tricks(self, trick):\n",
    "        self.tricks.append(trick)"
   ]
  },
  {
   "cell_type": "code",
   "execution_count": 68,
   "id": "fc189dc1",
   "metadata": {},
   "outputs": [],
   "source": [
    "a = dog(\"Cherry\")\n",
    "b = dog(\"Tommy\")"
   ]
  },
  {
   "cell_type": "code",
   "execution_count": 69,
   "id": "2a69a1d7",
   "metadata": {},
   "outputs": [
    {
     "name": "stdout",
     "output_type": "stream",
     "text": [
      "Cherry Tommy\n"
     ]
    }
   ],
   "source": [
    "print(a.name,b.name)"
   ]
  },
  {
   "cell_type": "code",
   "execution_count": 70,
   "id": "9130823f",
   "metadata": {},
   "outputs": [],
   "source": [
    "a.add_tricks(\"Roll\")"
   ]
  },
  {
   "cell_type": "code",
   "execution_count": 71,
   "id": "75842d7b",
   "metadata": {},
   "outputs": [],
   "source": [
    "a.add_tricks(\"Jump\")"
   ]
  },
  {
   "cell_type": "code",
   "execution_count": 73,
   "id": "8a78a6e0",
   "metadata": {},
   "outputs": [],
   "source": [
    "a.add_tricks(\"Sit\")"
   ]
  },
  {
   "cell_type": "code",
   "execution_count": 74,
   "id": "8e0543b2",
   "metadata": {},
   "outputs": [
    {
     "data": {
      "text/plain": [
       "['Roll', 'Jump', 'Sit']"
      ]
     },
     "execution_count": 74,
     "metadata": {},
     "output_type": "execute_result"
    }
   ],
   "source": [
    "a.tricks"
   ]
  },
  {
   "cell_type": "code",
   "execution_count": 75,
   "id": "4078ea65",
   "metadata": {},
   "outputs": [
    {
     "data": {
      "text/plain": [
       "['Roll', 'Jump', 'Sit']"
      ]
     },
     "execution_count": 75,
     "metadata": {},
     "output_type": "execute_result"
    }
   ],
   "source": [
    "b.tricks"
   ]
  },
  {
   "cell_type": "code",
   "execution_count": 76,
   "id": "634b8e71",
   "metadata": {},
   "outputs": [
    {
     "data": {
      "text/plain": [
       "120320192"
      ]
     },
     "execution_count": 76,
     "metadata": {},
     "output_type": "execute_result"
    }
   ],
   "source": [
    "id(a.tricks)"
   ]
  },
  {
   "cell_type": "code",
   "execution_count": 77,
   "id": "e268b2db",
   "metadata": {},
   "outputs": [
    {
     "data": {
      "text/plain": [
       "120320192"
      ]
     },
     "execution_count": 77,
     "metadata": {},
     "output_type": "execute_result"
    }
   ],
   "source": [
    "id(b.tricks)"
   ]
  },
  {
   "cell_type": "code",
   "execution_count": 78,
   "id": "78620a55",
   "metadata": {},
   "outputs": [
    {
     "data": {
      "text/plain": [
       "120320192"
      ]
     },
     "execution_count": 78,
     "metadata": {},
     "output_type": "execute_result"
    }
   ],
   "source": [
    "id(dog.tricks)"
   ]
  },
  {
   "cell_type": "code",
   "execution_count": 114,
   "id": "b46fb6ab",
   "metadata": {},
   "outputs": [],
   "source": [
    "class dog:\n",
    "    #tricks = []\n",
    "    \n",
    "    def __init__(self, name):\n",
    "        self.name = name\n",
    "        self.tricks = []\n",
    "    def add_tricks(self, trick):\n",
    "        self.tricks.append(trick)"
   ]
  },
  {
   "cell_type": "code",
   "execution_count": 115,
   "id": "7ad22035",
   "metadata": {},
   "outputs": [],
   "source": [
    "a = dog(\"Cherry\")\n",
    "b = dog(\"Tommy\")"
   ]
  },
  {
   "cell_type": "code",
   "execution_count": 116,
   "id": "c2a36f54",
   "metadata": {},
   "outputs": [
    {
     "data": {
      "text/plain": [
       "'Cherry'"
      ]
     },
     "execution_count": 116,
     "metadata": {},
     "output_type": "execute_result"
    }
   ],
   "source": [
    "a.name"
   ]
  },
  {
   "cell_type": "code",
   "execution_count": 117,
   "id": "9ca14cd5",
   "metadata": {},
   "outputs": [
    {
     "data": {
      "text/plain": [
       "'Tommy'"
      ]
     },
     "execution_count": 117,
     "metadata": {},
     "output_type": "execute_result"
    }
   ],
   "source": [
    "b.name"
   ]
  },
  {
   "cell_type": "code",
   "execution_count": 118,
   "id": "de97b960",
   "metadata": {},
   "outputs": [
    {
     "name": "stdout",
     "output_type": "stream",
     "text": [
      "Cherry Tommy\n"
     ]
    }
   ],
   "source": [
    "print(a.name, b.name)"
   ]
  },
  {
   "cell_type": "code",
   "execution_count": 119,
   "id": "39ef58ef",
   "metadata": {},
   "outputs": [],
   "source": [
    "a.add_tricks(\"Roll\")\n",
    "a.add_tricks(\"Sit\")\n",
    "a.add_tricks(\"Jump\")"
   ]
  },
  {
   "cell_type": "code",
   "execution_count": 120,
   "id": "43fb57a2",
   "metadata": {},
   "outputs": [
    {
     "data": {
      "text/plain": [
       "['Roll', 'Sit', 'Jump']"
      ]
     },
     "execution_count": 120,
     "metadata": {},
     "output_type": "execute_result"
    }
   ],
   "source": [
    "a.tricks"
   ]
  },
  {
   "cell_type": "code",
   "execution_count": 121,
   "id": "80226f2a",
   "metadata": {},
   "outputs": [
    {
     "data": {
      "text/plain": [
       "[]"
      ]
     },
     "execution_count": 121,
     "metadata": {},
     "output_type": "execute_result"
    }
   ],
   "source": [
    "b.tricks"
   ]
  },
  {
   "cell_type": "code",
   "execution_count": 122,
   "id": "4788c71b",
   "metadata": {},
   "outputs": [
    {
     "name": "stdout",
     "output_type": "stream",
     "text": [
      "130237888 130296448\n"
     ]
    }
   ],
   "source": [
    "print(id(a.tricks), id(b.tricks))"
   ]
  },
  {
   "cell_type": "code",
   "execution_count": null,
   "id": "0bb6527c",
   "metadata": {},
   "outputs": [],
   "source": []
  }
 ],
 "metadata": {
  "kernelspec": {
   "display_name": "Python 3 (ipykernel)",
   "language": "python",
   "name": "python3"
  },
  "language_info": {
   "codemirror_mode": {
    "name": "ipython",
    "version": 3
   },
   "file_extension": ".py",
   "mimetype": "text/x-python",
   "name": "python",
   "nbconvert_exporter": "python",
   "pygments_lexer": "ipython3",
   "version": "3.8.6"
  }
 },
 "nbformat": 4,
 "nbformat_minor": 5
}
